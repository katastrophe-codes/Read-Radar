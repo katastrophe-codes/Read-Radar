{
 "cells": [
  {
   "cell_type": "markdown",
   "id": "d2a4fa6f",
   "metadata": {},
   "source": [
    "# Book Recommendation System - EDA Notebook "
   ]
  },
  {
   "cell_type": "markdown",
   "id": "d9f558c7",
   "metadata": {},
   "source": [
    "This jupyter notebook contains the initial steps of the book recommendation system, where we load our datasets, clean the data and implement the initial processing and feature engineering processes in order to implement effective visualitions and modeling in later steps. \n",
    "\n",
    "To begin with, the datasets in their unedited form were acquired through this website, in the datsets section: https://mengtingwan.github.io/data/goodreads.html\n",
    "\n",
    "For the sake of this project only the following datasets were utilised, and all this data has been scraped from goodreads: \n",
    "- goodreads_books.json.gz: Contains detailed information on about 2M books \n",
    "- goodreads_book_genres_initial.json.gz: Extracted fuzzy book genres (genre tags are extracted from users' popular shelves by a simple keyword matching process)\n",
    "- goodreads_interactions.csv: Complete user-book interactions\n",
    "- book_id_map.csv:Contains user id and book id map\n",
    "\n",
    "The following markup and code cells will take us through the necessary imports, data loading and dataframe creation steps."
   ]
  },
  {
   "cell_type": "markdown",
   "id": "65a17fd8-5c71-4baa-889b-c5f50e6df5a4",
   "metadata": {},
   "source": [
    "## Necessary Imports for Loading and Pre Processing"
   ]
  },
  {
   "cell_type": "code",
   "execution_count": 1,
   "id": "14856ada",
   "metadata": {
    "tags": []
   },
   "outputs": [],
   "source": [
    "import pandas as pd\n",
    "import matplotlib.pyplot as plt\n",
    "import numpy as np\n",
    "import seaborn as sns\n",
    "import json\n",
    "import csv\n",
    "import re \n",
    "import pickle"
   ]
  },
  {
   "cell_type": "markdown",
   "id": "a7ec7403-41d2-49f4-8124-e40ec1f24067",
   "metadata": {},
   "source": [
    "## Loading the Data"
   ]
  },
  {
   "cell_type": "markdown",
   "id": "15f051f5-7d47-4cc0-b68b-012005b42e50",
   "metadata": {},
   "source": [
    "In order to load the datasets, we will use a different approach from the typical pd.read_csv() command that we are well acquainted with. The reason for this is because, we have a mix of both json and csv files and because we have very heavy data. \n",
    "\n",
    "In this case, we need to use a more scalable and memory efficient technique instead of loading the entire dataset, and that happens to be streaming the data line by line. \n",
    "\n",
    "Moreover, it is better to parse through the lines of data and select only the parts that we want to use for our dataset, and in order to implement this effectively, we can use a parsing function. "
   ]
  },
  {
   "cell_type": "code",
   "execution_count": 2,
   "id": "b674d57a",
   "metadata": {
    "tags": []
   },
   "outputs": [],
   "source": [
    "# Function to parse through books dataset and retain specific columns\n",
    "def parse_books(line):\n",
    "    data = json.loads(line)\n",
    "    return{\n",
    "        \"book_id\": data[\"book_id\"],\n",
    "        \"title\": data[\"title_without_series\"],\n",
    "        \"ratings\": data[\"ratings_count\"],\n",
    "        \"average_rating\": data[\"average_rating\"],\n",
    "        \"url\": data[\"url\"],\n",
    "        \"cover_image\": data[\"image_url\"],\n",
    "        \"num_pages\": data [\"num_pages\"],\n",
    "        \"publication_year\":data[\"publication_year\"],\n",
    "        \"publisher\" : data[\"publisher\"],\n",
    "    }"
   ]
  },
  {
   "cell_type": "code",
   "execution_count": 3,
   "id": "8dcfabc4",
   "metadata": {
    "tags": []
   },
   "outputs": [],
   "source": [
    "# stream through books dataset to efficiently load the data \n",
    "books_titles = []\n",
    "with open(\"goodreads_books.json\", 'r') as f:\n",
    "    while True:\n",
    "        line = f.readline()\n",
    "        if not line:\n",
    "            break\n",
    "        fields = parse_books(line)\n",
    "        \n",
    "        try:\n",
    "            ratings = int(fields[\"ratings\"])\n",
    "            \n",
    "        except ValueError:\n",
    "            continue\n",
    "            \n",
    "        if ratings > 10: #only take into account books with more than 10 \n",
    "            books_titles.append(fields)\n",
    "\n",
    "# dictionary to dataframe \n",
    "titles = pd.DataFrame.from_dict(books_titles)"
   ]
  },
  {
   "cell_type": "code",
   "execution_count": 4,
   "id": "4e847ffb-990b-4027-93d4-3f58f015170d",
   "metadata": {
    "tags": []
   },
   "outputs": [
    {
     "data": {
      "text/html": [
       "<div>\n",
       "<style scoped>\n",
       "    .dataframe tbody tr th:only-of-type {\n",
       "        vertical-align: middle;\n",
       "    }\n",
       "\n",
       "    .dataframe tbody tr th {\n",
       "        vertical-align: top;\n",
       "    }\n",
       "\n",
       "    .dataframe thead th {\n",
       "        text-align: right;\n",
       "    }\n",
       "</style>\n",
       "<table border=\"1\" class=\"dataframe\">\n",
       "  <thead>\n",
       "    <tr style=\"text-align: right;\">\n",
       "      <th></th>\n",
       "      <th>book_id</th>\n",
       "      <th>title</th>\n",
       "      <th>ratings</th>\n",
       "      <th>average_rating</th>\n",
       "      <th>url</th>\n",
       "      <th>cover_image</th>\n",
       "      <th>num_pages</th>\n",
       "      <th>publication_year</th>\n",
       "      <th>publisher</th>\n",
       "    </tr>\n",
       "  </thead>\n",
       "  <tbody>\n",
       "    <tr>\n",
       "      <th>0</th>\n",
       "      <td>7327624</td>\n",
       "      <td>The Unschooled Wizard (Sun Wolf and Starhawk, ...</td>\n",
       "      <td>140</td>\n",
       "      <td>4.03</td>\n",
       "      <td>https://www.goodreads.com/book/show/7327624-th...</td>\n",
       "      <td>https://images.gr-assets.com/books/1304100136m...</td>\n",
       "      <td>600</td>\n",
       "      <td>1987</td>\n",
       "      <td>Nelson Doubleday, Inc.</td>\n",
       "    </tr>\n",
       "    <tr>\n",
       "      <th>1</th>\n",
       "      <td>6066819</td>\n",
       "      <td>Best Friends Forever</td>\n",
       "      <td>51184</td>\n",
       "      <td>3.49</td>\n",
       "      <td>https://www.goodreads.com/book/show/6066819-be...</td>\n",
       "      <td>https://s.gr-assets.com/assets/nophoto/book/11...</td>\n",
       "      <td>368</td>\n",
       "      <td>2009</td>\n",
       "      <td>Atria Books</td>\n",
       "    </tr>\n",
       "    <tr>\n",
       "      <th>2</th>\n",
       "      <td>287140</td>\n",
       "      <td>Runic Astrology: Starcraft and Timekeeping in ...</td>\n",
       "      <td>15</td>\n",
       "      <td>3.40</td>\n",
       "      <td>https://www.goodreads.com/book/show/287140.Run...</td>\n",
       "      <td>https://images.gr-assets.com/books/1413219371m...</td>\n",
       "      <td></td>\n",
       "      <td></td>\n",
       "      <td></td>\n",
       "    </tr>\n",
       "    <tr>\n",
       "      <th>3</th>\n",
       "      <td>287141</td>\n",
       "      <td>The Aeneid for Boys and Girls</td>\n",
       "      <td>46</td>\n",
       "      <td>4.13</td>\n",
       "      <td>https://www.goodreads.com/book/show/287141.The...</td>\n",
       "      <td>https://s.gr-assets.com/assets/nophoto/book/11...</td>\n",
       "      <td>162</td>\n",
       "      <td>2006</td>\n",
       "      <td>Yesterday's Classics</td>\n",
       "    </tr>\n",
       "    <tr>\n",
       "      <th>4</th>\n",
       "      <td>378460</td>\n",
       "      <td>The Wanting of Levine</td>\n",
       "      <td>12</td>\n",
       "      <td>4.38</td>\n",
       "      <td>https://www.goodreads.com/book/show/378460.The...</td>\n",
       "      <td>https://s.gr-assets.com/assets/nophoto/book/11...</td>\n",
       "      <td></td>\n",
       "      <td>1979</td>\n",
       "      <td>Berkley Publishing Group</td>\n",
       "    </tr>\n",
       "  </tbody>\n",
       "</table>\n",
       "</div>"
      ],
      "text/plain": [
       "   book_id                                              title ratings  \\\n",
       "0  7327624  The Unschooled Wizard (Sun Wolf and Starhawk, ...     140   \n",
       "1  6066819                               Best Friends Forever   51184   \n",
       "2   287140  Runic Astrology: Starcraft and Timekeeping in ...      15   \n",
       "3   287141                      The Aeneid for Boys and Girls      46   \n",
       "4   378460                              The Wanting of Levine      12   \n",
       "\n",
       "  average_rating                                                url  \\\n",
       "0           4.03  https://www.goodreads.com/book/show/7327624-th...   \n",
       "1           3.49  https://www.goodreads.com/book/show/6066819-be...   \n",
       "2           3.40  https://www.goodreads.com/book/show/287140.Run...   \n",
       "3           4.13  https://www.goodreads.com/book/show/287141.The...   \n",
       "4           4.38  https://www.goodreads.com/book/show/378460.The...   \n",
       "\n",
       "                                         cover_image num_pages  \\\n",
       "0  https://images.gr-assets.com/books/1304100136m...       600   \n",
       "1  https://s.gr-assets.com/assets/nophoto/book/11...       368   \n",
       "2  https://images.gr-assets.com/books/1413219371m...             \n",
       "3  https://s.gr-assets.com/assets/nophoto/book/11...       162   \n",
       "4  https://s.gr-assets.com/assets/nophoto/book/11...             \n",
       "\n",
       "  publication_year                 publisher  \n",
       "0             1987    Nelson Doubleday, Inc.  \n",
       "1             2009               Atria Books  \n",
       "2                                             \n",
       "3             2006      Yesterday's Classics  \n",
       "4             1979  Berkley Publishing Group  "
      ]
     },
     "execution_count": 4,
     "metadata": {},
     "output_type": "execute_result"
    }
   ],
   "source": [
    "titles.head(5) # to initially display the dataset "
   ]
  },
  {
   "cell_type": "markdown",
   "id": "2333584b-26c7-454b-b005-777e7d6d4465",
   "metadata": {},
   "source": [
    "Now, that we have streamed through the very first json file and successfully converted it into a dataframe, we can repeat this process for the other datasets as well. "
   ]
  },
  {
   "cell_type": "code",
   "execution_count": 5,
   "id": "241713ab",
   "metadata": {
    "tags": []
   },
   "outputs": [],
   "source": [
    "#stream through genres dataset \n",
    "book_genres = []\n",
    "with open(\"goodreads_genres.json\", 'r') as f:\n",
    "    while True:\n",
    "        line = f.readline()\n",
    "        if not line:\n",
    "            break\n",
    "        fields = json.loads(line)\n",
    "        book_genres.append(fields)\n",
    "\n",
    "#dictionary to dataframe        \n",
    "genres = pd.DataFrame.from_dict(book_genres)"
   ]
  },
  {
   "cell_type": "code",
   "execution_count": 6,
   "id": "e16f84c2-4796-4876-b667-683ec687c57b",
   "metadata": {
    "scrolled": true,
    "tags": []
   },
   "outputs": [
    {
     "data": {
      "text/html": [
       "<div>\n",
       "<style scoped>\n",
       "    .dataframe tbody tr th:only-of-type {\n",
       "        vertical-align: middle;\n",
       "    }\n",
       "\n",
       "    .dataframe tbody tr th {\n",
       "        vertical-align: top;\n",
       "    }\n",
       "\n",
       "    .dataframe thead th {\n",
       "        text-align: right;\n",
       "    }\n",
       "</style>\n",
       "<table border=\"1\" class=\"dataframe\">\n",
       "  <thead>\n",
       "    <tr style=\"text-align: right;\">\n",
       "      <th></th>\n",
       "      <th>book_id</th>\n",
       "      <th>genres</th>\n",
       "    </tr>\n",
       "  </thead>\n",
       "  <tbody>\n",
       "    <tr>\n",
       "      <th>0</th>\n",
       "      <td>5333265</td>\n",
       "      <td>{'history, historical fiction, biography': 1}</td>\n",
       "    </tr>\n",
       "    <tr>\n",
       "      <th>1</th>\n",
       "      <td>1333909</td>\n",
       "      <td>{'fiction': 219, 'history, historical fiction,...</td>\n",
       "    </tr>\n",
       "    <tr>\n",
       "      <th>2</th>\n",
       "      <td>7327624</td>\n",
       "      <td>{'fantasy, paranormal': 31, 'fiction': 8, 'mys...</td>\n",
       "    </tr>\n",
       "    <tr>\n",
       "      <th>3</th>\n",
       "      <td>6066819</td>\n",
       "      <td>{'fiction': 555, 'romance': 23, 'mystery, thri...</td>\n",
       "    </tr>\n",
       "    <tr>\n",
       "      <th>4</th>\n",
       "      <td>287140</td>\n",
       "      <td>{'non-fiction': 3}</td>\n",
       "    </tr>\n",
       "  </tbody>\n",
       "</table>\n",
       "</div>"
      ],
      "text/plain": [
       "   book_id                                             genres\n",
       "0  5333265      {'history, historical fiction, biography': 1}\n",
       "1  1333909  {'fiction': 219, 'history, historical fiction,...\n",
       "2  7327624  {'fantasy, paranormal': 31, 'fiction': 8, 'mys...\n",
       "3  6066819  {'fiction': 555, 'romance': 23, 'mystery, thri...\n",
       "4   287140                                 {'non-fiction': 3}"
      ]
     },
     "execution_count": 6,
     "metadata": {},
     "output_type": "execute_result"
    }
   ],
   "source": [
    "genres.head(5) # to initially display the dataset"
   ]
  },
  {
   "cell_type": "markdown",
   "id": "3ed8dea8-0496-4b73-8804-1d2876cdf373",
   "metadata": {},
   "source": [
    "The genre dataset at first glance can be quite challenging to work with if left this way, so we will be cleaning it in later sections, the next dataset that we need is the bulk of our textual analysis, the reviews dataset."
   ]
  },
  {
   "cell_type": "code",
   "execution_count": 7,
   "id": "b4baae6f",
   "metadata": {
    "tags": []
   },
   "outputs": [],
   "source": [
    "# Function to parse through reviews dataset and retain specific columns\n",
    "def parse_reviews(line):\n",
    "    data = json.loads(line)\n",
    "    return{\n",
    "        \"user_id\": data[\"user_id\"],\n",
    "        \"book_id\": data[\"book_id\"],\n",
    "        \"review_id\": data[\"review_id\"],\n",
    "        \"rating\": data[\"rating\"],\n",
    "        \"review_text\": data[\"review_text\"]\n",
    "    }"
   ]
  },
  {
   "cell_type": "code",
   "execution_count": 8,
   "id": "89e0d133",
   "metadata": {
    "tags": []
   },
   "outputs": [],
   "source": [
    "#stream through reviews dataset \n",
    "book_reviews = []\n",
    "with open(\"goodreads_reviews.json\", 'r') as f:\n",
    "    while True:\n",
    "        line = f.readline()\n",
    "        if not line:\n",
    "            break\n",
    "        fields = json.loads(line)\n",
    "        book_reviews.append(fields)\n",
    "\n",
    "#dictionary to dataframe        \n",
    "reviews = pd.DataFrame.from_dict(book_reviews)"
   ]
  },
  {
   "cell_type": "code",
   "execution_count": 9,
   "id": "ab2ac9ed",
   "metadata": {
    "scrolled": true,
    "tags": []
   },
   "outputs": [
    {
     "data": {
      "text/html": [
       "<div>\n",
       "<style scoped>\n",
       "    .dataframe tbody tr th:only-of-type {\n",
       "        vertical-align: middle;\n",
       "    }\n",
       "\n",
       "    .dataframe tbody tr th {\n",
       "        vertical-align: top;\n",
       "    }\n",
       "\n",
       "    .dataframe thead th {\n",
       "        text-align: right;\n",
       "    }\n",
       "</style>\n",
       "<table border=\"1\" class=\"dataframe\">\n",
       "  <thead>\n",
       "    <tr style=\"text-align: right;\">\n",
       "      <th></th>\n",
       "      <th>user_id</th>\n",
       "      <th>book_id</th>\n",
       "      <th>review_id</th>\n",
       "      <th>rating</th>\n",
       "      <th>review_text</th>\n",
       "      <th>date_added</th>\n",
       "      <th>date_updated</th>\n",
       "      <th>read_at</th>\n",
       "      <th>started_at</th>\n",
       "      <th>n_votes</th>\n",
       "      <th>n_comments</th>\n",
       "    </tr>\n",
       "  </thead>\n",
       "  <tbody>\n",
       "    <tr>\n",
       "      <th>0</th>\n",
       "      <td>8842281e1d1347389f2ab93d60773d4d</td>\n",
       "      <td>24375664</td>\n",
       "      <td>5cd416f3efc3f944fce4ce2db2290d5e</td>\n",
       "      <td>5</td>\n",
       "      <td>Mind blowingly cool. Best science fiction I've...</td>\n",
       "      <td>Fri Aug 25 13:55:02 -0700 2017</td>\n",
       "      <td>Mon Oct 09 08:55:59 -0700 2017</td>\n",
       "      <td>Sat Oct 07 00:00:00 -0700 2017</td>\n",
       "      <td>Sat Aug 26 00:00:00 -0700 2017</td>\n",
       "      <td>16</td>\n",
       "      <td>0</td>\n",
       "    </tr>\n",
       "    <tr>\n",
       "      <th>1</th>\n",
       "      <td>8842281e1d1347389f2ab93d60773d4d</td>\n",
       "      <td>18245960</td>\n",
       "      <td>dfdbb7b0eb5a7e4c26d59a937e2e5feb</td>\n",
       "      <td>5</td>\n",
       "      <td>This is a special book. It started slow for ab...</td>\n",
       "      <td>Sun Jul 30 07:44:10 -0700 2017</td>\n",
       "      <td>Wed Aug 30 00:00:26 -0700 2017</td>\n",
       "      <td>Sat Aug 26 12:05:52 -0700 2017</td>\n",
       "      <td>Tue Aug 15 13:23:18 -0700 2017</td>\n",
       "      <td>28</td>\n",
       "      <td>1</td>\n",
       "    </tr>\n",
       "    <tr>\n",
       "      <th>2</th>\n",
       "      <td>8842281e1d1347389f2ab93d60773d4d</td>\n",
       "      <td>6392944</td>\n",
       "      <td>5e212a62bced17b4dbe41150e5bb9037</td>\n",
       "      <td>3</td>\n",
       "      <td>I haven't read a fun mystery book in a while a...</td>\n",
       "      <td>Mon Jul 24 02:48:17 -0700 2017</td>\n",
       "      <td>Sun Jul 30 09:28:03 -0700 2017</td>\n",
       "      <td>Tue Jul 25 00:00:00 -0700 2017</td>\n",
       "      <td>Mon Jul 24 00:00:00 -0700 2017</td>\n",
       "      <td>6</td>\n",
       "      <td>0</td>\n",
       "    </tr>\n",
       "    <tr>\n",
       "      <th>3</th>\n",
       "      <td>8842281e1d1347389f2ab93d60773d4d</td>\n",
       "      <td>22078596</td>\n",
       "      <td>fdd13cad0695656be99828cd75d6eb73</td>\n",
       "      <td>4</td>\n",
       "      <td>Fun, fast paced, and disturbing tale of murder...</td>\n",
       "      <td>Mon Jul 24 02:33:09 -0700 2017</td>\n",
       "      <td>Sun Jul 30 10:23:54 -0700 2017</td>\n",
       "      <td>Sun Jul 30 15:42:05 -0700 2017</td>\n",
       "      <td>Tue Jul 25 00:00:00 -0700 2017</td>\n",
       "      <td>22</td>\n",
       "      <td>4</td>\n",
       "    </tr>\n",
       "    <tr>\n",
       "      <th>4</th>\n",
       "      <td>8842281e1d1347389f2ab93d60773d4d</td>\n",
       "      <td>6644782</td>\n",
       "      <td>bd0df91c9d918c0e433b9ab3a9a5c451</td>\n",
       "      <td>4</td>\n",
       "      <td>A fun book that gives you a sense of living in...</td>\n",
       "      <td>Mon Jul 24 02:28:14 -0700 2017</td>\n",
       "      <td>Thu Aug 24 00:07:20 -0700 2017</td>\n",
       "      <td>Sat Aug 05 00:00:00 -0700 2017</td>\n",
       "      <td>Sun Jul 30 00:00:00 -0700 2017</td>\n",
       "      <td>8</td>\n",
       "      <td>0</td>\n",
       "    </tr>\n",
       "  </tbody>\n",
       "</table>\n",
       "</div>"
      ],
      "text/plain": [
       "                            user_id   book_id  \\\n",
       "0  8842281e1d1347389f2ab93d60773d4d  24375664   \n",
       "1  8842281e1d1347389f2ab93d60773d4d  18245960   \n",
       "2  8842281e1d1347389f2ab93d60773d4d   6392944   \n",
       "3  8842281e1d1347389f2ab93d60773d4d  22078596   \n",
       "4  8842281e1d1347389f2ab93d60773d4d   6644782   \n",
       "\n",
       "                          review_id  rating  \\\n",
       "0  5cd416f3efc3f944fce4ce2db2290d5e       5   \n",
       "1  dfdbb7b0eb5a7e4c26d59a937e2e5feb       5   \n",
       "2  5e212a62bced17b4dbe41150e5bb9037       3   \n",
       "3  fdd13cad0695656be99828cd75d6eb73       4   \n",
       "4  bd0df91c9d918c0e433b9ab3a9a5c451       4   \n",
       "\n",
       "                                         review_text  \\\n",
       "0  Mind blowingly cool. Best science fiction I've...   \n",
       "1  This is a special book. It started slow for ab...   \n",
       "2  I haven't read a fun mystery book in a while a...   \n",
       "3  Fun, fast paced, and disturbing tale of murder...   \n",
       "4  A fun book that gives you a sense of living in...   \n",
       "\n",
       "                       date_added                    date_updated  \\\n",
       "0  Fri Aug 25 13:55:02 -0700 2017  Mon Oct 09 08:55:59 -0700 2017   \n",
       "1  Sun Jul 30 07:44:10 -0700 2017  Wed Aug 30 00:00:26 -0700 2017   \n",
       "2  Mon Jul 24 02:48:17 -0700 2017  Sun Jul 30 09:28:03 -0700 2017   \n",
       "3  Mon Jul 24 02:33:09 -0700 2017  Sun Jul 30 10:23:54 -0700 2017   \n",
       "4  Mon Jul 24 02:28:14 -0700 2017  Thu Aug 24 00:07:20 -0700 2017   \n",
       "\n",
       "                          read_at                      started_at  n_votes  \\\n",
       "0  Sat Oct 07 00:00:00 -0700 2017  Sat Aug 26 00:00:00 -0700 2017       16   \n",
       "1  Sat Aug 26 12:05:52 -0700 2017  Tue Aug 15 13:23:18 -0700 2017       28   \n",
       "2  Tue Jul 25 00:00:00 -0700 2017  Mon Jul 24 00:00:00 -0700 2017        6   \n",
       "3  Sun Jul 30 15:42:05 -0700 2017  Tue Jul 25 00:00:00 -0700 2017       22   \n",
       "4  Sat Aug 05 00:00:00 -0700 2017  Sun Jul 30 00:00:00 -0700 2017        8   \n",
       "\n",
       "   n_comments  \n",
       "0           0  \n",
       "1           1  \n",
       "2           0  \n",
       "3           4  \n",
       "4           0  "
      ]
     },
     "execution_count": 9,
     "metadata": {},
     "output_type": "execute_result"
    }
   ],
   "source": [
    "reviews.head(5)"
   ]
  },
  {
   "cell_type": "markdown",
   "id": "696f50d4",
   "metadata": {},
   "source": [
    "The above dataset, contains a few columns that we could potentially drop in the next stage, the review_text column here will be most beneficial to perform our text analysis. Apart from these three datasets, we have an interactions dataset that will be imported later onwards while implementing the collaborative filtering aspect of our project."
   ]
  },
  {
   "cell_type": "markdown",
   "id": "937a78fc-b8de-447a-a073-121b0b280462",
   "metadata": {
    "tags": []
   },
   "source": [
    "## Data Preprocessing"
   ]
  },
  {
   "cell_type": "markdown",
   "id": "ab997092-d9b3-42ea-b4d6-6b5cf07841f4",
   "metadata": {},
   "source": [
    "This section handles, the cleaning of the data, namely analyzing the columns for data type changes, feature additions, merges, etc. \n",
    "\n",
    "We will ensure the changes have been made by viewing info before and after implementing the necessary changes as we see fit for our processing. "
   ]
  },
  {
   "cell_type": "code",
   "execution_count": 10,
   "id": "73a9baae-045a-4d80-b0d1-ffcb7c1221ec",
   "metadata": {
    "tags": []
   },
   "outputs": [
    {
     "name": "stdout",
     "output_type": "stream",
     "text": [
      "<class 'pandas.core.frame.DataFrame'>\n",
      "RangeIndex: 1496812 entries, 0 to 1496811\n",
      "Data columns (total 9 columns):\n",
      " #   Column            Non-Null Count    Dtype \n",
      "---  ------            --------------    ----- \n",
      " 0   book_id           1496812 non-null  object\n",
      " 1   title             1496812 non-null  object\n",
      " 2   ratings           1496812 non-null  object\n",
      " 3   average_rating    1496812 non-null  object\n",
      " 4   url               1496812 non-null  object\n",
      " 5   cover_image       1496812 non-null  object\n",
      " 6   num_pages         1496812 non-null  object\n",
      " 7   publication_year  1496812 non-null  object\n",
      " 8   publisher         1496812 non-null  object\n",
      "dtypes: object(9)\n",
      "memory usage: 102.8+ MB\n"
     ]
    }
   ],
   "source": [
    "# understanding the titles dataframe \n",
    "titles.info() "
   ]
  },
  {
   "cell_type": "markdown",
   "id": "a92d13ed-e6d9-4878-9108-fd121b2ff81d",
   "metadata": {},
   "source": [
    "As we can see from the above command, the titles dataframe contains a total of 8 columns that are all string types and have no missing values, however, it is evident that because we converted the json files into a dictionary and then to a dataframe that there may be hidden missing values in the form of whitespaces. \n",
    "\n",
    "Changes to titles dataframe: \n",
    "- Ensure 'ratings' column is numeric \n",
    "- Crete a separate modified title for ease to search \n",
    "- Ensure 'average_rating' is a float number \n",
    "- Ensure 'num_pages' is an int number \n",
    "- Ensure 'publication_year' is a date-time year \n",
    "- Fill in the hidden missing values appropriately"
   ]
  },
  {
   "cell_type": "code",
   "execution_count": 11,
   "id": "b16f9e67",
   "metadata": {
    "tags": []
   },
   "outputs": [],
   "source": [
    "#data cleaning for titles dataframe\n",
    "\n",
    "#ensure ratings column is numeric \n",
    "titles['ratings']= pd.to_numeric(titles['ratings'])\n",
    "\n",
    "#ensure book title is stripped of spaces, lower case, and lacks special chars\n",
    "titles['mod_title'] = titles['title'].str.replace(\"[^a-zA-Z0-9 ]\", \"\", regex=True)\n",
    "titles['mod_title'] = titles['title'].str.replace(\"\\s+\", \" \", regex = True)\n",
    "titles['mod_title'] = titles['title'].str.lower()\n",
    "titles = titles[titles['mod_title'].str.len()>0]\n",
    "\n",
    "#ensure average_rating column is a float \n",
    "titles['average_rating'] = titles['average_rating'].astype(float)\n",
    "\n",
    "#ensure num_pages column is an int number, and fill any missing values with 150 pages \n",
    "titles['num_pages'] = titles['num_pages'].replace(r'^\\s*$', np.nan, regex=True)\n",
    "titles['num_pages'] = titles['num_pages'].astype(pd.Int64Dtype())\n",
    "titles['num_pages'] = titles['num_pages'].fillna(150)\n",
    "\n",
    "#ensure publisher column is not empty \n",
    "titles['publisher'] = titles['publisher'].replace(r'^\\s*$', np.nan, regex=True)\n",
    "titles['publisher'] = titles['publisher'].fillna(\"Unknown\")\n",
    "\n",
    "#ensure publication year is a date time year and not empty \n",
    "titles['publication_year'] = titles['publication_year'].str.strip()  # Remove leading/trailing spaces\n",
    "titles['publication_year'] = pd.to_datetime(titles['publication_year'], format='%Y', errors='coerce')\n",
    "most_common_year = titles['publication_year'].mode()[0]  # Get the most common year\n",
    "titles['publication_year'].fillna(most_common_year, inplace=True)\n",
    "titles['publication_year'] = titles['publication_year'].dt.year\n",
    "# Drop rows where 'publication_year' is greater than 2023\n",
    "titles = titles[titles['publication_year'] <= 2023]\n"
   ]
  },
  {
   "cell_type": "code",
   "execution_count": 12,
   "id": "3d35141a-4399-4763-93c3-25e8a7672e5a",
   "metadata": {
    "tags": []
   },
   "outputs": [
    {
     "name": "stdout",
     "output_type": "stream",
     "text": [
      "<class 'pandas.core.frame.DataFrame'>\n",
      "Index: 1496730 entries, 0 to 1496811\n",
      "Data columns (total 10 columns):\n",
      " #   Column            Non-Null Count    Dtype  \n",
      "---  ------            --------------    -----  \n",
      " 0   book_id           1496730 non-null  object \n",
      " 1   title             1496730 non-null  object \n",
      " 2   ratings           1496730 non-null  int64  \n",
      " 3   average_rating    1496730 non-null  float64\n",
      " 4   url               1496730 non-null  object \n",
      " 5   cover_image       1496730 non-null  object \n",
      " 6   num_pages         1496730 non-null  Int64  \n",
      " 7   publication_year  1496730 non-null  int32  \n",
      " 8   publisher         1496730 non-null  object \n",
      " 9   mod_title         1496730 non-null  object \n",
      "dtypes: Int64(1), float64(1), int32(1), int64(1), object(6)\n",
      "memory usage: 121.3+ MB\n"
     ]
    }
   ],
   "source": [
    "# verify the new info \n",
    "titles.info()"
   ]
  },
  {
   "cell_type": "code",
   "execution_count": 13,
   "id": "006a095f-1016-4315-b61a-b0eeee2ea9a8",
   "metadata": {
    "tags": []
   },
   "outputs": [
    {
     "data": {
      "text/html": [
       "<div>\n",
       "<style scoped>\n",
       "    .dataframe tbody tr th:only-of-type {\n",
       "        vertical-align: middle;\n",
       "    }\n",
       "\n",
       "    .dataframe tbody tr th {\n",
       "        vertical-align: top;\n",
       "    }\n",
       "\n",
       "    .dataframe thead th {\n",
       "        text-align: right;\n",
       "    }\n",
       "</style>\n",
       "<table border=\"1\" class=\"dataframe\">\n",
       "  <thead>\n",
       "    <tr style=\"text-align: right;\">\n",
       "      <th></th>\n",
       "      <th>book_id</th>\n",
       "      <th>title</th>\n",
       "      <th>ratings</th>\n",
       "      <th>average_rating</th>\n",
       "      <th>url</th>\n",
       "      <th>cover_image</th>\n",
       "      <th>num_pages</th>\n",
       "      <th>publication_year</th>\n",
       "      <th>publisher</th>\n",
       "      <th>mod_title</th>\n",
       "    </tr>\n",
       "  </thead>\n",
       "  <tbody>\n",
       "    <tr>\n",
       "      <th>0</th>\n",
       "      <td>7327624</td>\n",
       "      <td>The Unschooled Wizard (Sun Wolf and Starhawk, ...</td>\n",
       "      <td>140</td>\n",
       "      <td>4.03</td>\n",
       "      <td>https://www.goodreads.com/book/show/7327624-th...</td>\n",
       "      <td>https://images.gr-assets.com/books/1304100136m...</td>\n",
       "      <td>600</td>\n",
       "      <td>1987</td>\n",
       "      <td>Nelson Doubleday, Inc.</td>\n",
       "      <td>the unschooled wizard (sun wolf and starhawk, ...</td>\n",
       "    </tr>\n",
       "    <tr>\n",
       "      <th>1</th>\n",
       "      <td>6066819</td>\n",
       "      <td>Best Friends Forever</td>\n",
       "      <td>51184</td>\n",
       "      <td>3.49</td>\n",
       "      <td>https://www.goodreads.com/book/show/6066819-be...</td>\n",
       "      <td>https://s.gr-assets.com/assets/nophoto/book/11...</td>\n",
       "      <td>368</td>\n",
       "      <td>2009</td>\n",
       "      <td>Atria Books</td>\n",
       "      <td>best friends forever</td>\n",
       "    </tr>\n",
       "    <tr>\n",
       "      <th>2</th>\n",
       "      <td>287140</td>\n",
       "      <td>Runic Astrology: Starcraft and Timekeeping in ...</td>\n",
       "      <td>15</td>\n",
       "      <td>3.40</td>\n",
       "      <td>https://www.goodreads.com/book/show/287140.Run...</td>\n",
       "      <td>https://images.gr-assets.com/books/1413219371m...</td>\n",
       "      <td>150</td>\n",
       "      <td>2013</td>\n",
       "      <td>Unknown</td>\n",
       "      <td>runic astrology: starcraft and timekeeping in ...</td>\n",
       "    </tr>\n",
       "    <tr>\n",
       "      <th>3</th>\n",
       "      <td>287141</td>\n",
       "      <td>The Aeneid for Boys and Girls</td>\n",
       "      <td>46</td>\n",
       "      <td>4.13</td>\n",
       "      <td>https://www.goodreads.com/book/show/287141.The...</td>\n",
       "      <td>https://s.gr-assets.com/assets/nophoto/book/11...</td>\n",
       "      <td>162</td>\n",
       "      <td>2006</td>\n",
       "      <td>Yesterday's Classics</td>\n",
       "      <td>the aeneid for boys and girls</td>\n",
       "    </tr>\n",
       "    <tr>\n",
       "      <th>4</th>\n",
       "      <td>378460</td>\n",
       "      <td>The Wanting of Levine</td>\n",
       "      <td>12</td>\n",
       "      <td>4.38</td>\n",
       "      <td>https://www.goodreads.com/book/show/378460.The...</td>\n",
       "      <td>https://s.gr-assets.com/assets/nophoto/book/11...</td>\n",
       "      <td>150</td>\n",
       "      <td>1979</td>\n",
       "      <td>Berkley Publishing Group</td>\n",
       "      <td>the wanting of levine</td>\n",
       "    </tr>\n",
       "  </tbody>\n",
       "</table>\n",
       "</div>"
      ],
      "text/plain": [
       "   book_id                                              title  ratings  \\\n",
       "0  7327624  The Unschooled Wizard (Sun Wolf and Starhawk, ...      140   \n",
       "1  6066819                               Best Friends Forever    51184   \n",
       "2   287140  Runic Astrology: Starcraft and Timekeeping in ...       15   \n",
       "3   287141                      The Aeneid for Boys and Girls       46   \n",
       "4   378460                              The Wanting of Levine       12   \n",
       "\n",
       "   average_rating                                                url  \\\n",
       "0            4.03  https://www.goodreads.com/book/show/7327624-th...   \n",
       "1            3.49  https://www.goodreads.com/book/show/6066819-be...   \n",
       "2            3.40  https://www.goodreads.com/book/show/287140.Run...   \n",
       "3            4.13  https://www.goodreads.com/book/show/287141.The...   \n",
       "4            4.38  https://www.goodreads.com/book/show/378460.The...   \n",
       "\n",
       "                                         cover_image  num_pages  \\\n",
       "0  https://images.gr-assets.com/books/1304100136m...        600   \n",
       "1  https://s.gr-assets.com/assets/nophoto/book/11...        368   \n",
       "2  https://images.gr-assets.com/books/1413219371m...        150   \n",
       "3  https://s.gr-assets.com/assets/nophoto/book/11...        162   \n",
       "4  https://s.gr-assets.com/assets/nophoto/book/11...        150   \n",
       "\n",
       "   publication_year                 publisher  \\\n",
       "0              1987    Nelson Doubleday, Inc.   \n",
       "1              2009               Atria Books   \n",
       "2              2013                   Unknown   \n",
       "3              2006      Yesterday's Classics   \n",
       "4              1979  Berkley Publishing Group   \n",
       "\n",
       "                                           mod_title  \n",
       "0  the unschooled wizard (sun wolf and starhawk, ...  \n",
       "1                               best friends forever  \n",
       "2  runic astrology: starcraft and timekeeping in ...  \n",
       "3                      the aeneid for boys and girls  \n",
       "4                              the wanting of levine  "
      ]
     },
     "execution_count": 13,
     "metadata": {},
     "output_type": "execute_result"
    }
   ],
   "source": [
    "#view the modified dataframe \n",
    "titles.head(5)"
   ]
  },
  {
   "cell_type": "code",
   "execution_count": 14,
   "id": "3df7c5c1-27c2-4d1f-a65d-851636033e96",
   "metadata": {
    "tags": []
   },
   "outputs": [
    {
     "name": "stdout",
     "output_type": "stream",
     "text": [
      "<class 'pandas.core.frame.DataFrame'>\n",
      "RangeIndex: 2360655 entries, 0 to 2360654\n",
      "Data columns (total 2 columns):\n",
      " #   Column   Dtype \n",
      "---  ------   ----- \n",
      " 0   book_id  object\n",
      " 1   genres   object\n",
      "dtypes: object(2)\n",
      "memory usage: 36.0+ MB\n"
     ]
    }
   ],
   "source": [
    "# understanding the genres dataframe \n",
    "genres.info() "
   ]
  },
  {
   "cell_type": "markdown",
   "id": "70feb90b-040c-4243-9a33-0be7d5d31405",
   "metadata": {},
   "source": [
    "As we can see from the above command, the genres dataframe contains a total of 2 columns that are all string types and have no missing values, however, it is evident that because we converted the json files into a dictionary and then to a dataframe that there may be hidden missing values in the form of whitespaces.\n",
    "\n",
    "Changes to be made: \n",
    "The primary change would be to extract the list of comma separated genres and turn them into boolean features for each book_id, so that this dataset can be merged with the titles dataset in order to keep only the necessary values. "
   ]
  },
  {
   "cell_type": "code",
   "execution_count": 15,
   "id": "793ba420",
   "metadata": {
    "tags": []
   },
   "outputs": [],
   "source": [
    "# create a list of book ids that we need to retain in the genres dataframe\n",
    "book_list = titles['book_id'].tolist()\n",
    "genres = genres[genres['book_id'].isin(book_list)]"
   ]
  },
  {
   "cell_type": "code",
   "execution_count": 16,
   "id": "557e962f",
   "metadata": {
    "tags": []
   },
   "outputs": [
    {
     "name": "stdout",
     "output_type": "stream",
     "text": [
      "<class 'pandas.core.frame.DataFrame'>\n",
      "Index: 1496730 entries, 2 to 2360653\n",
      "Data columns (total 17 columns):\n",
      " #   Column              Non-Null Count    Dtype \n",
      "---  ------              --------------    ----- \n",
      " 0   book_id             1496730 non-null  object\n",
      " 1   fantasy             1496730 non-null  bool  \n",
      " 2   paranormal          1496730 non-null  bool  \n",
      " 3   fiction             1496730 non-null  bool  \n",
      " 4   mystery             1496730 non-null  bool  \n",
      " 5   thriller            1496730 non-null  bool  \n",
      " 6   crime               1496730 non-null  bool  \n",
      " 7   poetry              1496730 non-null  bool  \n",
      " 8   romance             1496730 non-null  bool  \n",
      " 9   non-fiction         1496730 non-null  bool  \n",
      " 10  history             1496730 non-null  bool  \n",
      " 11  historical fiction  1496730 non-null  bool  \n",
      " 12  biography           1496730 non-null  bool  \n",
      " 13  children            1496730 non-null  bool  \n",
      " 14  young-adult         1496730 non-null  bool  \n",
      " 15  comics              1496730 non-null  bool  \n",
      " 16  graphic             1496730 non-null  bool  \n",
      "dtypes: bool(16), object(1)\n",
      "memory usage: 45.7+ MB\n"
     ]
    }
   ],
   "source": [
    "# Create a new DataFrame with a copy of 'genres'\n",
    "cleaned_genres = genres.copy()\n",
    "\n",
    "# Create a new column 'cleaned_genres' with a more human-readable format\n",
    "cleaned_genres['cleaned_genres'] = genres['genres'].apply(lambda x: ', '.join([f'{key} ({value})' for key, value in x.items()]))\n",
    "\n",
    "# Drop the original 'genres' column from the new DataFrame\n",
    "cleaned_genres = cleaned_genres.drop(columns=['genres'])\n",
    "\n",
    "# Define a function to remove numbers in brackets from a string\n",
    "def remove_numbers_in_brackets(text):\n",
    "    return re.sub(r'[-+]?\\d+', '', text).replace('()', '')\n",
    "\n",
    "# Apply the function to the 'cleaned_genres' column\n",
    "cleaned_genres['cleaned_genres'] = cleaned_genres['cleaned_genres'].apply(remove_numbers_in_brackets)\n",
    "\n",
    "# Split the 'cleaned_genres' column by commas and create a list of all unique genres\n",
    "all_genres = cleaned_genres['cleaned_genres'].str.split(', ').explode().unique()\n",
    "\n",
    "# Create new columns for each unique genre\n",
    "for genre in all_genres:\n",
    "    cleaned_genres[genre] = cleaned_genres['cleaned_genres'].str.contains(genre, case=False, regex=False)\n",
    "\n",
    "# Drop the original 'cleaned_genres' column\n",
    "cleaned_genres = cleaned_genres.drop(columns=['cleaned_genres'])\n",
    "\n",
    "# Drop the final column \n",
    "cleaned_genres = cleaned_genres.drop(cleaned_genres.columns[17], axis=1)\n",
    "\n",
    "#verify the new info \n",
    "cleaned_genres.info()"
   ]
  },
  {
   "cell_type": "code",
   "execution_count": 17,
   "id": "21c08468",
   "metadata": {
    "tags": []
   },
   "outputs": [
    {
     "data": {
      "text/html": [
       "<div>\n",
       "<style scoped>\n",
       "    .dataframe tbody tr th:only-of-type {\n",
       "        vertical-align: middle;\n",
       "    }\n",
       "\n",
       "    .dataframe tbody tr th {\n",
       "        vertical-align: top;\n",
       "    }\n",
       "\n",
       "    .dataframe thead th {\n",
       "        text-align: right;\n",
       "    }\n",
       "</style>\n",
       "<table border=\"1\" class=\"dataframe\">\n",
       "  <thead>\n",
       "    <tr style=\"text-align: right;\">\n",
       "      <th></th>\n",
       "      <th>book_id</th>\n",
       "      <th>fantasy</th>\n",
       "      <th>paranormal</th>\n",
       "      <th>fiction</th>\n",
       "      <th>mystery</th>\n",
       "      <th>thriller</th>\n",
       "      <th>crime</th>\n",
       "      <th>poetry</th>\n",
       "      <th>romance</th>\n",
       "      <th>non-fiction</th>\n",
       "      <th>history</th>\n",
       "      <th>historical fiction</th>\n",
       "      <th>biography</th>\n",
       "      <th>children</th>\n",
       "      <th>young-adult</th>\n",
       "      <th>comics</th>\n",
       "      <th>graphic</th>\n",
       "    </tr>\n",
       "  </thead>\n",
       "  <tbody>\n",
       "    <tr>\n",
       "      <th>2</th>\n",
       "      <td>7327624</td>\n",
       "      <td>True</td>\n",
       "      <td>True</td>\n",
       "      <td>True</td>\n",
       "      <td>True</td>\n",
       "      <td>True</td>\n",
       "      <td>True</td>\n",
       "      <td>True</td>\n",
       "      <td>False</td>\n",
       "      <td>False</td>\n",
       "      <td>False</td>\n",
       "      <td>False</td>\n",
       "      <td>False</td>\n",
       "      <td>False</td>\n",
       "      <td>False</td>\n",
       "      <td>False</td>\n",
       "      <td>False</td>\n",
       "    </tr>\n",
       "    <tr>\n",
       "      <th>3</th>\n",
       "      <td>6066819</td>\n",
       "      <td>False</td>\n",
       "      <td>False</td>\n",
       "      <td>True</td>\n",
       "      <td>True</td>\n",
       "      <td>True</td>\n",
       "      <td>True</td>\n",
       "      <td>False</td>\n",
       "      <td>True</td>\n",
       "      <td>False</td>\n",
       "      <td>False</td>\n",
       "      <td>False</td>\n",
       "      <td>False</td>\n",
       "      <td>False</td>\n",
       "      <td>False</td>\n",
       "      <td>False</td>\n",
       "      <td>False</td>\n",
       "    </tr>\n",
       "    <tr>\n",
       "      <th>4</th>\n",
       "      <td>287140</td>\n",
       "      <td>False</td>\n",
       "      <td>False</td>\n",
       "      <td>True</td>\n",
       "      <td>False</td>\n",
       "      <td>False</td>\n",
       "      <td>False</td>\n",
       "      <td>False</td>\n",
       "      <td>False</td>\n",
       "      <td>True</td>\n",
       "      <td>False</td>\n",
       "      <td>False</td>\n",
       "      <td>False</td>\n",
       "      <td>False</td>\n",
       "      <td>False</td>\n",
       "      <td>False</td>\n",
       "      <td>False</td>\n",
       "    </tr>\n",
       "    <tr>\n",
       "      <th>5</th>\n",
       "      <td>287141</td>\n",
       "      <td>True</td>\n",
       "      <td>True</td>\n",
       "      <td>True</td>\n",
       "      <td>False</td>\n",
       "      <td>False</td>\n",
       "      <td>False</td>\n",
       "      <td>False</td>\n",
       "      <td>False</td>\n",
       "      <td>False</td>\n",
       "      <td>True</td>\n",
       "      <td>True</td>\n",
       "      <td>True</td>\n",
       "      <td>True</td>\n",
       "      <td>True</td>\n",
       "      <td>False</td>\n",
       "      <td>False</td>\n",
       "    </tr>\n",
       "    <tr>\n",
       "      <th>6</th>\n",
       "      <td>378460</td>\n",
       "      <td>False</td>\n",
       "      <td>False</td>\n",
       "      <td>True</td>\n",
       "      <td>False</td>\n",
       "      <td>False</td>\n",
       "      <td>False</td>\n",
       "      <td>False</td>\n",
       "      <td>False</td>\n",
       "      <td>False</td>\n",
       "      <td>False</td>\n",
       "      <td>False</td>\n",
       "      <td>False</td>\n",
       "      <td>False</td>\n",
       "      <td>False</td>\n",
       "      <td>False</td>\n",
       "      <td>False</td>\n",
       "    </tr>\n",
       "  </tbody>\n",
       "</table>\n",
       "</div>"
      ],
      "text/plain": [
       "   book_id  fantasy  paranormal   fiction   mystery  thriller  crime   \\\n",
       "2  7327624     True         True      True     True      True    True   \n",
       "3  6066819    False        False      True     True      True    True   \n",
       "4   287140    False        False      True    False     False   False   \n",
       "5   287141     True         True      True    False     False   False   \n",
       "6   378460    False        False      True    False     False   False   \n",
       "\n",
       "   poetry   romance   non-fiction   history  historical fiction  biography   \\\n",
       "2     True     False         False    False               False       False   \n",
       "3    False      True         False    False               False       False   \n",
       "4    False     False          True    False               False       False   \n",
       "5    False     False         False     True                True        True   \n",
       "6    False     False         False    False               False       False   \n",
       "\n",
       "   children   young-adult   comics  graphic   \n",
       "2      False         False   False     False  \n",
       "3      False         False   False     False  \n",
       "4      False         False   False     False  \n",
       "5       True          True   False     False  \n",
       "6      False         False   False     False  "
      ]
     },
     "execution_count": 17,
     "metadata": {},
     "output_type": "execute_result"
    }
   ],
   "source": [
    "#view the dataframe\n",
    "cleaned_genres.head(5) "
   ]
  },
  {
   "cell_type": "code",
   "execution_count": 18,
   "id": "c70e8a2e",
   "metadata": {
    "tags": []
   },
   "outputs": [
    {
     "name": "stdout",
     "output_type": "stream",
     "text": [
      "<class 'pandas.core.frame.DataFrame'>\n",
      "RangeIndex: 15739967 entries, 0 to 15739966\n",
      "Data columns (total 11 columns):\n",
      " #   Column        Dtype \n",
      "---  ------        ----- \n",
      " 0   user_id       object\n",
      " 1   book_id       object\n",
      " 2   review_id     object\n",
      " 3   rating        int64 \n",
      " 4   review_text   object\n",
      " 5   date_added    object\n",
      " 6   date_updated  object\n",
      " 7   read_at       object\n",
      " 8   started_at    object\n",
      " 9   n_votes       int64 \n",
      " 10  n_comments    int64 \n",
      "dtypes: int64(3), object(8)\n",
      "memory usage: 1.3+ GB\n"
     ]
    }
   ],
   "source": [
    "reviews.info()"
   ]
  },
  {
   "cell_type": "markdown",
   "id": "e0a4dfc8",
   "metadata": {},
   "source": [
    "As we can see above, the info method shows us that we have 11 columns in this dataset, out of which we need only the first 5 - user_id, book_id, review_id, rating and review_text. Moreover, we need to ensure that the dataset contains only the book_id from our main titles dataset. Finally, we need to create a new feature in order to better predict the high rating using logistic regression, that will be the count of review texts per book, in the titles dataset."
   ]
  },
  {
   "cell_type": "code",
   "execution_count": 19,
   "id": "fc6466dd",
   "metadata": {
    "tags": []
   },
   "outputs": [],
   "source": [
    "#use the book_list to keeo only the matching rows in the reviews dataset\n",
    "reviews = reviews[reviews['book_id'].isin(book_list)]"
   ]
  },
  {
   "cell_type": "code",
   "execution_count": 20,
   "id": "c89b306c",
   "metadata": {
    "tags": []
   },
   "outputs": [],
   "source": [
    "#cleaning the reviews dataset \n",
    "#Find the index of the 'review_text' column\n",
    "review_text_index = reviews.columns.get_loc('review_text')\n",
    "#Drop columns after the 'review_text' column\n",
    "reviews = reviews.iloc[:, :review_text_index + 1]\n",
    "#Feature Creation\n",
    "titles['text_review_count'] = reviews.groupby('book_id')['review_text'].transform('count')"
   ]
  },
  {
   "cell_type": "code",
   "execution_count": 21,
   "id": "a14a3637",
   "metadata": {
    "tags": []
   },
   "outputs": [],
   "source": [
    "#ensure there are no NaN values in the text_review_count column \n",
    "titles['text_review_count'].isnull().sum()\n",
    "titles['text_review_count'].fillna(0, inplace=True)"
   ]
  },
  {
   "cell_type": "code",
   "execution_count": 22,
   "id": "6ad37aab",
   "metadata": {
    "scrolled": true,
    "tags": []
   },
   "outputs": [
    {
     "name": "stdout",
     "output_type": "stream",
     "text": [
      "<class 'pandas.core.frame.DataFrame'>\n",
      "Index: 14972821 entries, 0 to 15739966\n",
      "Data columns (total 5 columns):\n",
      " #   Column       Dtype \n",
      "---  ------       ----- \n",
      " 0   user_id      object\n",
      " 1   book_id      object\n",
      " 2   review_id    object\n",
      " 3   rating       int64 \n",
      " 4   review_text  object\n",
      "dtypes: int64(1), object(4)\n",
      "memory usage: 1.2+ GB\n"
     ]
    }
   ],
   "source": [
    "reviews.info()"
   ]
  },
  {
   "cell_type": "code",
   "execution_count": 23,
   "id": "ae509cd8",
   "metadata": {
    "scrolled": true,
    "tags": []
   },
   "outputs": [
    {
     "data": {
      "text/html": [
       "<div>\n",
       "<style scoped>\n",
       "    .dataframe tbody tr th:only-of-type {\n",
       "        vertical-align: middle;\n",
       "    }\n",
       "\n",
       "    .dataframe tbody tr th {\n",
       "        vertical-align: top;\n",
       "    }\n",
       "\n",
       "    .dataframe thead th {\n",
       "        text-align: right;\n",
       "    }\n",
       "</style>\n",
       "<table border=\"1\" class=\"dataframe\">\n",
       "  <thead>\n",
       "    <tr style=\"text-align: right;\">\n",
       "      <th></th>\n",
       "      <th>user_id</th>\n",
       "      <th>book_id</th>\n",
       "      <th>review_id</th>\n",
       "      <th>rating</th>\n",
       "      <th>review_text</th>\n",
       "    </tr>\n",
       "  </thead>\n",
       "  <tbody>\n",
       "    <tr>\n",
       "      <th>0</th>\n",
       "      <td>8842281e1d1347389f2ab93d60773d4d</td>\n",
       "      <td>24375664</td>\n",
       "      <td>5cd416f3efc3f944fce4ce2db2290d5e</td>\n",
       "      <td>5</td>\n",
       "      <td>Mind blowingly cool. Best science fiction I've...</td>\n",
       "    </tr>\n",
       "    <tr>\n",
       "      <th>1</th>\n",
       "      <td>8842281e1d1347389f2ab93d60773d4d</td>\n",
       "      <td>18245960</td>\n",
       "      <td>dfdbb7b0eb5a7e4c26d59a937e2e5feb</td>\n",
       "      <td>5</td>\n",
       "      <td>This is a special book. It started slow for ab...</td>\n",
       "    </tr>\n",
       "    <tr>\n",
       "      <th>2</th>\n",
       "      <td>8842281e1d1347389f2ab93d60773d4d</td>\n",
       "      <td>6392944</td>\n",
       "      <td>5e212a62bced17b4dbe41150e5bb9037</td>\n",
       "      <td>3</td>\n",
       "      <td>I haven't read a fun mystery book in a while a...</td>\n",
       "    </tr>\n",
       "    <tr>\n",
       "      <th>3</th>\n",
       "      <td>8842281e1d1347389f2ab93d60773d4d</td>\n",
       "      <td>22078596</td>\n",
       "      <td>fdd13cad0695656be99828cd75d6eb73</td>\n",
       "      <td>4</td>\n",
       "      <td>Fun, fast paced, and disturbing tale of murder...</td>\n",
       "    </tr>\n",
       "    <tr>\n",
       "      <th>4</th>\n",
       "      <td>8842281e1d1347389f2ab93d60773d4d</td>\n",
       "      <td>6644782</td>\n",
       "      <td>bd0df91c9d918c0e433b9ab3a9a5c451</td>\n",
       "      <td>4</td>\n",
       "      <td>A fun book that gives you a sense of living in...</td>\n",
       "    </tr>\n",
       "  </tbody>\n",
       "</table>\n",
       "</div>"
      ],
      "text/plain": [
       "                            user_id   book_id  \\\n",
       "0  8842281e1d1347389f2ab93d60773d4d  24375664   \n",
       "1  8842281e1d1347389f2ab93d60773d4d  18245960   \n",
       "2  8842281e1d1347389f2ab93d60773d4d   6392944   \n",
       "3  8842281e1d1347389f2ab93d60773d4d  22078596   \n",
       "4  8842281e1d1347389f2ab93d60773d4d   6644782   \n",
       "\n",
       "                          review_id  rating  \\\n",
       "0  5cd416f3efc3f944fce4ce2db2290d5e       5   \n",
       "1  dfdbb7b0eb5a7e4c26d59a937e2e5feb       5   \n",
       "2  5e212a62bced17b4dbe41150e5bb9037       3   \n",
       "3  fdd13cad0695656be99828cd75d6eb73       4   \n",
       "4  bd0df91c9d918c0e433b9ab3a9a5c451       4   \n",
       "\n",
       "                                         review_text  \n",
       "0  Mind blowingly cool. Best science fiction I've...  \n",
       "1  This is a special book. It started slow for ab...  \n",
       "2  I haven't read a fun mystery book in a while a...  \n",
       "3  Fun, fast paced, and disturbing tale of murder...  \n",
       "4  A fun book that gives you a sense of living in...  "
      ]
     },
     "execution_count": 23,
     "metadata": {},
     "output_type": "execute_result"
    }
   ],
   "source": [
    "reviews.head(5)"
   ]
  },
  {
   "cell_type": "code",
   "execution_count": 24,
   "id": "458a2393",
   "metadata": {
    "scrolled": true,
    "tags": []
   },
   "outputs": [
    {
     "data": {
      "text/html": [
       "<div>\n",
       "<style scoped>\n",
       "    .dataframe tbody tr th:only-of-type {\n",
       "        vertical-align: middle;\n",
       "    }\n",
       "\n",
       "    .dataframe tbody tr th {\n",
       "        vertical-align: top;\n",
       "    }\n",
       "\n",
       "    .dataframe thead th {\n",
       "        text-align: right;\n",
       "    }\n",
       "</style>\n",
       "<table border=\"1\" class=\"dataframe\">\n",
       "  <thead>\n",
       "    <tr style=\"text-align: right;\">\n",
       "      <th></th>\n",
       "      <th>book_id</th>\n",
       "      <th>title</th>\n",
       "      <th>ratings</th>\n",
       "      <th>average_rating</th>\n",
       "      <th>url</th>\n",
       "      <th>cover_image</th>\n",
       "      <th>num_pages</th>\n",
       "      <th>publication_year</th>\n",
       "      <th>publisher</th>\n",
       "      <th>mod_title</th>\n",
       "      <th>text_review_count</th>\n",
       "    </tr>\n",
       "  </thead>\n",
       "  <tbody>\n",
       "    <tr>\n",
       "      <th>0</th>\n",
       "      <td>7327624</td>\n",
       "      <td>The Unschooled Wizard (Sun Wolf and Starhawk, ...</td>\n",
       "      <td>140</td>\n",
       "      <td>4.03</td>\n",
       "      <td>https://www.goodreads.com/book/show/7327624-th...</td>\n",
       "      <td>https://images.gr-assets.com/books/1304100136m...</td>\n",
       "      <td>600</td>\n",
       "      <td>1987</td>\n",
       "      <td>Nelson Doubleday, Inc.</td>\n",
       "      <td>the unschooled wizard (sun wolf and starhawk, ...</td>\n",
       "      <td>25.0</td>\n",
       "    </tr>\n",
       "    <tr>\n",
       "      <th>1</th>\n",
       "      <td>6066819</td>\n",
       "      <td>Best Friends Forever</td>\n",
       "      <td>51184</td>\n",
       "      <td>3.49</td>\n",
       "      <td>https://www.goodreads.com/book/show/6066819-be...</td>\n",
       "      <td>https://s.gr-assets.com/assets/nophoto/book/11...</td>\n",
       "      <td>368</td>\n",
       "      <td>2009</td>\n",
       "      <td>Atria Books</td>\n",
       "      <td>best friends forever</td>\n",
       "      <td>80.0</td>\n",
       "    </tr>\n",
       "    <tr>\n",
       "      <th>2</th>\n",
       "      <td>287140</td>\n",
       "      <td>Runic Astrology: Starcraft and Timekeeping in ...</td>\n",
       "      <td>15</td>\n",
       "      <td>3.40</td>\n",
       "      <td>https://www.goodreads.com/book/show/287140.Run...</td>\n",
       "      <td>https://images.gr-assets.com/books/1413219371m...</td>\n",
       "      <td>150</td>\n",
       "      <td>2013</td>\n",
       "      <td>Unknown</td>\n",
       "      <td>runic astrology: starcraft and timekeeping in ...</td>\n",
       "      <td>5.0</td>\n",
       "    </tr>\n",
       "    <tr>\n",
       "      <th>3</th>\n",
       "      <td>287141</td>\n",
       "      <td>The Aeneid for Boys and Girls</td>\n",
       "      <td>46</td>\n",
       "      <td>4.13</td>\n",
       "      <td>https://www.goodreads.com/book/show/287141.The...</td>\n",
       "      <td>https://s.gr-assets.com/assets/nophoto/book/11...</td>\n",
       "      <td>162</td>\n",
       "      <td>2006</td>\n",
       "      <td>Yesterday's Classics</td>\n",
       "      <td>the aeneid for boys and girls</td>\n",
       "      <td>7.0</td>\n",
       "    </tr>\n",
       "    <tr>\n",
       "      <th>4</th>\n",
       "      <td>378460</td>\n",
       "      <td>The Wanting of Levine</td>\n",
       "      <td>12</td>\n",
       "      <td>4.38</td>\n",
       "      <td>https://www.goodreads.com/book/show/378460.The...</td>\n",
       "      <td>https://s.gr-assets.com/assets/nophoto/book/11...</td>\n",
       "      <td>150</td>\n",
       "      <td>1979</td>\n",
       "      <td>Berkley Publishing Group</td>\n",
       "      <td>the wanting of levine</td>\n",
       "      <td>3.0</td>\n",
       "    </tr>\n",
       "  </tbody>\n",
       "</table>\n",
       "</div>"
      ],
      "text/plain": [
       "   book_id                                              title  ratings  \\\n",
       "0  7327624  The Unschooled Wizard (Sun Wolf and Starhawk, ...      140   \n",
       "1  6066819                               Best Friends Forever    51184   \n",
       "2   287140  Runic Astrology: Starcraft and Timekeeping in ...       15   \n",
       "3   287141                      The Aeneid for Boys and Girls       46   \n",
       "4   378460                              The Wanting of Levine       12   \n",
       "\n",
       "   average_rating                                                url  \\\n",
       "0            4.03  https://www.goodreads.com/book/show/7327624-th...   \n",
       "1            3.49  https://www.goodreads.com/book/show/6066819-be...   \n",
       "2            3.40  https://www.goodreads.com/book/show/287140.Run...   \n",
       "3            4.13  https://www.goodreads.com/book/show/287141.The...   \n",
       "4            4.38  https://www.goodreads.com/book/show/378460.The...   \n",
       "\n",
       "                                         cover_image  num_pages  \\\n",
       "0  https://images.gr-assets.com/books/1304100136m...        600   \n",
       "1  https://s.gr-assets.com/assets/nophoto/book/11...        368   \n",
       "2  https://images.gr-assets.com/books/1413219371m...        150   \n",
       "3  https://s.gr-assets.com/assets/nophoto/book/11...        162   \n",
       "4  https://s.gr-assets.com/assets/nophoto/book/11...        150   \n",
       "\n",
       "   publication_year                 publisher  \\\n",
       "0              1987    Nelson Doubleday, Inc.   \n",
       "1              2009               Atria Books   \n",
       "2              2013                   Unknown   \n",
       "3              2006      Yesterday's Classics   \n",
       "4              1979  Berkley Publishing Group   \n",
       "\n",
       "                                           mod_title  text_review_count  \n",
       "0  the unschooled wizard (sun wolf and starhawk, ...               25.0  \n",
       "1                               best friends forever               80.0  \n",
       "2  runic astrology: starcraft and timekeeping in ...                5.0  \n",
       "3                      the aeneid for boys and girls                7.0  \n",
       "4                              the wanting of levine                3.0  "
      ]
     },
     "execution_count": 24,
     "metadata": {},
     "output_type": "execute_result"
    }
   ],
   "source": [
    "titles.head()"
   ]
  },
  {
   "cell_type": "markdown",
   "id": "7824855b",
   "metadata": {},
   "source": [
    "The main datasets for the analysis have been cleaned and prepared accordingly, now we can move onto the initial questions and visualizations to guide us through this project. "
   ]
  },
  {
   "cell_type": "markdown",
   "id": "d54fdda4",
   "metadata": {},
   "source": [
    "## Data Analysis and Visualization"
   ]
  },
  {
   "cell_type": "markdown",
   "id": "8ce8d43e",
   "metadata": {},
   "source": [
    "Upon completion of the preprocessing stage, we have two ready datasets, namely titles and cleaned_genres which can be merged on book_id as the key column. Now, we are at a stage where we can begin asking some questions related to the business context of our data. \n",
    "\n",
    "Since, we are working with book related data, the primary stakeholders involved would be, publishers, authors and the reading community. \n",
    "\n",
    "While cleaning the data, the following questions were brainstormed:"
   ]
  },
  {
   "cell_type": "markdown",
   "id": "a628be02",
   "metadata": {},
   "source": [
    "### Question 1: What is the distribution of average ratings for books? "
   ]
  },
  {
   "cell_type": "code",
   "execution_count": 25,
   "id": "9b4581dd",
   "metadata": {
    "scrolled": true,
    "tags": []
   },
   "outputs": [
    {
     "name": "stderr",
     "output_type": "stream",
     "text": [
      "/Users/macbook/anaconda3/lib/python3.11/site-packages/seaborn/_oldcore.py:1498: FutureWarning: is_categorical_dtype is deprecated and will be removed in a future version. Use isinstance(dtype, CategoricalDtype) instead\n",
      "  if pd.api.types.is_categorical_dtype(vector):\n",
      "/Users/macbook/anaconda3/lib/python3.11/site-packages/seaborn/_oldcore.py:1119: FutureWarning: use_inf_as_na option is deprecated and will be removed in a future version. Convert inf values to NaN before operating instead.\n",
      "  with pd.option_context('mode.use_inf_as_na', True):\n"
     ]
    },
    {
     "data": {
      "image/png": "[encoded data removed]",
      "text/plain": [
       "<Figure size 500x500 with 1 Axes>"
      ]
     },
     "metadata": {},
     "output_type": "display_data"
    }
   ],
   "source": [
    "#make a histogram with probability distribution \n",
    "sns.displot(titles['average_rating'], kde=True, bins = 20)\n",
    "plt.xlabel('Average Rating')\n",
    "plt.ylabel('Frequency')\n",
    "plt.title('Distribution of Average Ratings')\n",
    "plt.show()"
   ]
  },
  {
   "cell_type": "markdown",
   "id": "f3d711d0",
   "metadata": {},
   "source": [
    "The above kde distribution shows us that the majority of the books have an average rating in the 3.75 to 4 stars range. The distribution has a left or negative skew and a higher kurtosis or peak as well which may indicate that the majority of values for ratings are smaller and the distribution has outliers on the lower end of the scale."
   ]
  },
  {
   "cell_type": "markdown",
   "id": "fa35f794",
   "metadata": {},
   "source": [
    "### Question 2: How are the average ratings of books distributed by publication year 2000 onwards?\n",
    "\n"
   ]
  },
  {
   "cell_type": "code",
   "execution_count": 26,
   "id": "2e0c28ec",
   "metadata": {
    "tags": []
   },
   "outputs": [
    {
     "name": "stderr",
     "output_type": "stream",
     "text": [
      "/Users/macbook/anaconda3/lib/python3.11/site-packages/seaborn/_oldcore.py:1498: FutureWarning: is_categorical_dtype is deprecated and will be removed in a future version. Use isinstance(dtype, CategoricalDtype) instead\n",
      "  if pd.api.types.is_categorical_dtype(vector):\n",
      "/Users/macbook/anaconda3/lib/python3.11/site-packages/seaborn/_oldcore.py:1498: FutureWarning: is_categorical_dtype is deprecated and will be removed in a future version. Use isinstance(dtype, CategoricalDtype) instead\n",
      "  if pd.api.types.is_categorical_dtype(vector):\n",
      "/Users/macbook/anaconda3/lib/python3.11/site-packages/seaborn/_oldcore.py:1498: FutureWarning: is_categorical_dtype is deprecated and will be removed in a future version. Use isinstance(dtype, CategoricalDtype) instead\n",
      "  if pd.api.types.is_categorical_dtype(vector):\n"
     ]
    },
    {
     "data": {
      "text/plain": [
       "Text(0.5, 1.0, 'Average Ratings of Books Published from 2000')"
      ]
     },
     "execution_count": 26,
     "metadata": {},
     "output_type": "execute_result"
    },
    {
     "data": {
      "image/png": "[encoded data removed]",
      "text/plain": [
       "<Figure size 640x480 with 1 Axes>"
      ]
     },
     "metadata": {},
     "output_type": "display_data"
    }
   ],
   "source": [
    "# Filter the dataset for books published between 2000 and 2023\n",
    "filtered_titles = titles[(titles['publication_year'] >= 2000)]\n",
    "\n",
    "# Create a box plot to visualize the distribution of average ratings by publication year\n",
    "sns.boxplot(x='publication_year', y='average_rating', data=filtered_titles)\n",
    "plt.xticks(rotation=90)\n",
    "plt.xlabel('Publication Year')\n",
    "plt.ylabel('Average Rating')\n",
    "plt.title('Average Ratings of Books Published from 2000')"
   ]
  },
  {
   "cell_type": "markdown",
   "id": "96155222",
   "metadata": {},
   "source": [
    "The above boxplot visualizations show us a distribution of the average ratings of the books published since the year 2000. We can see the summary statistics for each year, and it can be noted that the highest median value within this range can be found in the year 2020, if we do not take into account the sole book published in 2023. We can also infer that a majority of the outliers have a rating below 3 stars. "
   ]
  },
  {
   "cell_type": "markdown",
   "id": "51705869",
   "metadata": {},
   "source": [
    "### Question 3: Is there a correlation between the number of pages and average ratings of books?"
   ]
  },
  {
   "cell_type": "code",
   "execution_count": 27,
   "id": "e900331e",
   "metadata": {
    "tags": []
   },
   "outputs": [
    {
     "name": "stderr",
     "output_type": "stream",
     "text": [
      "/Users/macbook/anaconda3/lib/python3.11/site-packages/seaborn/_oldcore.py:1498: FutureWarning: is_categorical_dtype is deprecated and will be removed in a future version. Use isinstance(dtype, CategoricalDtype) instead\n",
      "  if pd.api.types.is_categorical_dtype(vector):\n",
      "/Users/macbook/anaconda3/lib/python3.11/site-packages/seaborn/_oldcore.py:1498: FutureWarning: is_categorical_dtype is deprecated and will be removed in a future version. Use isinstance(dtype, CategoricalDtype) instead\n",
      "  if pd.api.types.is_categorical_dtype(vector):\n",
      "/Users/macbook/anaconda3/lib/python3.11/site-packages/seaborn/_oldcore.py:1119: FutureWarning: use_inf_as_na option is deprecated and will be removed in a future version. Convert inf values to NaN before operating instead.\n",
      "  with pd.option_context('mode.use_inf_as_na', True):\n",
      "/Users/macbook/anaconda3/lib/python3.11/site-packages/seaborn/_oldcore.py:1119: FutureWarning: use_inf_as_na option is deprecated and will be removed in a future version. Convert inf values to NaN before operating instead.\n",
      "  with pd.option_context('mode.use_inf_as_na', True):\n"
     ]
    },
    {
     "data": {
      "image/png": "[encoded data removed]",
      "text/plain": [
       "<Figure size 640x480 with 1 Axes>"
      ]
     },
     "metadata": {},
     "output_type": "display_data"
    }
   ],
   "source": [
    "#filter the data to take into consideration books with upto 500 pages\n",
    "filtered_titles = titles[(titles['num_pages']<500)]\n",
    "#create a lineplot to display the trend \n",
    "sns.lineplot(x='average_rating', y='num_pages', data=filtered_titles)\n",
    "plt.xlabel('Average Rating')\n",
    "plt.ylabel('Number of Pages')\n",
    "plt.title('Relationship between Average Rating and Number of Pages')\n",
    "plt.show()"
   ]
  },
  {
   "cell_type": "markdown",
   "id": "f6e32ac2",
   "metadata": {},
   "source": [
    "The above lineplot provides us with the following insights: \n",
    "- Volatility in Lower Ratings: There is a high level of volatility in the number of pages for books with lower average ratings (from 0 to around 2). The error bars or confidence intervals are quite large in this section, indicating a wide variance in the number of pages for books with lower ratings.\n",
    "\n",
    "- Stabilization in Mid to High Ratings: As the average rating increases (approximately from 2 to 4.5), the graph becomes more stable, and the confidence intervals/error bars become narrower. This suggests that there is less variance in the number of pages for books with higher ratings.\n",
    "\n",
    "- Decrease in Number of Pages for Highest Ratings: There appears to be a slight decline in the number of pages as the rating approaches 5. This could indicate that books with the highest ratings do not necessarily have a high number of pages."
   ]
  },
  {
   "cell_type": "markdown",
   "id": "c0824e57",
   "metadata": {},
   "source": [
    "### Question 4: What are the most common genres in the dataset, and how do they correlate with user ratings?"
   ]
  },
  {
   "cell_type": "code",
   "execution_count": 28,
   "id": "6d8ed256",
   "metadata": {
    "scrolled": true,
    "tags": []
   },
   "outputs": [
    {
     "name": "stderr",
     "output_type": "stream",
     "text": [
      "/Users/macbook/anaconda3/lib/python3.11/site-packages/seaborn/_oldcore.py:1498: FutureWarning: is_categorical_dtype is deprecated and will be removed in a future version. Use isinstance(dtype, CategoricalDtype) instead\n",
      "  if pd.api.types.is_categorical_dtype(vector):\n",
      "/Users/macbook/anaconda3/lib/python3.11/site-packages/seaborn/_oldcore.py:1498: FutureWarning: is_categorical_dtype is deprecated and will be removed in a future version. Use isinstance(dtype, CategoricalDtype) instead\n",
      "  if pd.api.types.is_categorical_dtype(vector):\n",
      "/Users/macbook/anaconda3/lib/python3.11/site-packages/seaborn/_oldcore.py:1498: FutureWarning: is_categorical_dtype is deprecated and will be removed in a future version. Use isinstance(dtype, CategoricalDtype) instead\n",
      "  if pd.api.types.is_categorical_dtype(vector):\n"
     ]
    },
    {
     "data": {
      "image/png": "[encoded data removed]",
      "text/plain": [
       "<Figure size 640x480 with 1 Axes>"
      ]
     },
     "metadata": {},
     "output_type": "display_data"
    }
   ],
   "source": [
    "#use the cleaned_genres dataset\n",
    "common_genres = cleaned_genres.iloc[:, 1:].sum().sort_values(ascending=False)\n",
    "sns.barplot(x=common_genres.index, y=common_genres.values)\n",
    "plt.xlabel('Genre')\n",
    "plt.ylabel('Count')\n",
    "plt.title('Most Common Genres in the Dataset')\n",
    "plt.xticks(rotation=90)\n",
    "plt.show()"
   ]
  },
  {
   "cell_type": "markdown",
   "id": "f22255e3",
   "metadata": {},
   "source": [
    "The above barplot indicates that the fiction genre has an exponentially greater frequency within the books that we have in our dataset, whereas poetry seems to be the least. The romance, history , historical fiction and biography genres are around a similar range, on the higher end and then the lower end constitutes of graphic, comicd, children and young adult books. "
   ]
  },
  {
   "cell_type": "markdown",
   "id": "b8de7a89",
   "metadata": {},
   "source": [
    "### Question 5: Which publishers have the most highly-rated books in the dataset?"
   ]
  },
  {
   "cell_type": "code",
   "execution_count": 29,
   "id": "56f96405",
   "metadata": {
    "tags": []
   },
   "outputs": [
    {
     "name": "stderr",
     "output_type": "stream",
     "text": [
      "/Users/macbook/anaconda3/lib/python3.11/site-packages/seaborn/_oldcore.py:1498: FutureWarning: is_categorical_dtype is deprecated and will be removed in a future version. Use isinstance(dtype, CategoricalDtype) instead\n",
      "  if pd.api.types.is_categorical_dtype(vector):\n",
      "/Users/macbook/anaconda3/lib/python3.11/site-packages/seaborn/_oldcore.py:1498: FutureWarning: is_categorical_dtype is deprecated and will be removed in a future version. Use isinstance(dtype, CategoricalDtype) instead\n",
      "  if pd.api.types.is_categorical_dtype(vector):\n",
      "/Users/macbook/anaconda3/lib/python3.11/site-packages/seaborn/_oldcore.py:1498: FutureWarning: is_categorical_dtype is deprecated and will be removed in a future version. Use isinstance(dtype, CategoricalDtype) instead\n",
      "  if pd.api.types.is_categorical_dtype(vector):\n"
     ]
    },
    {
     "data": {
      "image/png": "[encoded data removed]",
      "text/plain": [
       "<Figure size 640x480 with 1 Axes>"
      ]
     },
     "metadata": {},
     "output_type": "display_data"
    }
   ],
   "source": [
    "# Define the threshold for high-rated books (you can adjust this value)\n",
    "threshold_rating = 3.5\n",
    "\n",
    "# Filter titles for books with an average rating above the threshold and with a known publisher\n",
    "high_rated_books = titles[(titles['average_rating'] >= threshold_rating) & (titles['publisher'] != 'Unknown')]\n",
    "\n",
    "# Group by publisher and count the number of high-rated books for each publisher\n",
    "high_rated_counts = high_rated_books['publisher'].value_counts()\n",
    "\n",
    "# Display the top publishers with the most high-rated books\n",
    "top_publishers_high_rated = high_rated_counts.head(15)  # Change the number to display more or fewer publishers\n",
    "\n",
    "# Create a bar plot to visualize the top publishers with the most high-rated books\n",
    "sns.barplot(x=top_publishers_high_rated.values, y=top_publishers_high_rated.index)\n",
    "plt.xlabel('Number of High-Rated Books')\n",
    "plt.ylabel('Publisher')\n",
    "plt.title(f'Top Publishers with the Most High-Rated Books (Threshold: {threshold_rating})')\n",
    "plt.show()"
   ]
  },
  {
   "cell_type": "markdown",
   "id": "363dd083",
   "metadata": {},
   "source": [
    "The above horizontal barplot indicates that HarperCollins has published the most high rated books with an average rating equal to greater than 3.5, ranging to over 6000 books, whereas VIZ Media LLC seems to have published the least, about 3000 books. "
   ]
  },
  {
   "cell_type": "markdown",
   "id": "6d8e1de4",
   "metadata": {},
   "source": [
    "### Question 6: How many books have unknown publisher information?"
   ]
  },
  {
   "cell_type": "code",
   "execution_count": 30,
   "id": "a0333b1b",
   "metadata": {
    "tags": []
   },
   "outputs": [
    {
     "name": "stdout",
     "output_type": "stream",
     "text": [
      "Number of Books with Unknown Publisher: 403628\n"
     ]
    }
   ],
   "source": [
    "# Count the number of books with 'Unknown' publisher\n",
    "unknown_publisher_count = titles[titles['publisher'] == 'Unknown'].shape[0]\n",
    "\n",
    "# Display the count as text\n",
    "print(f\"Number of Books with Unknown Publisher: {unknown_publisher_count}\")"
   ]
  },
  {
   "cell_type": "markdown",
   "id": "1de69cc8",
   "metadata": {},
   "source": [
    "### Question 7: What are the top 10 highest reviewed books? "
   ]
  },
  {
   "cell_type": "code",
   "execution_count": 31,
   "id": "77530e7d",
   "metadata": {
    "tags": []
   },
   "outputs": [
    {
     "name": "stdout",
     "output_type": "stream",
     "text": [
      "Top 10 Most Reviewed Books:\n",
      "The Fault in Our Stars: 20756 reviews\n",
      "The Hunger Games (The Hunger Games, #1): 18617 reviews\n",
      "Mockingjay (The Hunger Games, #3): 13536 reviews\n",
      "The Girl on the Train: 13402 reviews\n",
      "Catching Fire (The Hunger Games, #2): 11904 reviews\n",
      "The Book Thief: 11300 reviews\n",
      "Fifty Shades of Grey (Fifty Shades, #1): 11184 reviews\n",
      "Divergent (Divergent, #1): 10743 reviews\n",
      "Twilight (Twilight, #1): 10535 reviews\n",
      "The Martian: 9590 reviews\n"
     ]
    },
    {
     "name": "stderr",
     "output_type": "stream",
     "text": [
      "/Users/macbook/anaconda3/lib/python3.11/site-packages/seaborn/_oldcore.py:1498: FutureWarning: is_categorical_dtype is deprecated and will be removed in a future version. Use isinstance(dtype, CategoricalDtype) instead\n",
      "  if pd.api.types.is_categorical_dtype(vector):\n",
      "/Users/macbook/anaconda3/lib/python3.11/site-packages/seaborn/_oldcore.py:1498: FutureWarning: is_categorical_dtype is deprecated and will be removed in a future version. Use isinstance(dtype, CategoricalDtype) instead\n",
      "  if pd.api.types.is_categorical_dtype(vector):\n",
      "/Users/macbook/anaconda3/lib/python3.11/site-packages/seaborn/_oldcore.py:1498: FutureWarning: is_categorical_dtype is deprecated and will be removed in a future version. Use isinstance(dtype, CategoricalDtype) instead\n",
      "  if pd.api.types.is_categorical_dtype(vector):\n"
     ]
    },
    {
     "data": {
      "image/png": "[encoded data removed]",
      "text/plain": [
       "<Figure size 1200x600 with 1 Axes>"
      ]
     },
     "metadata": {},
     "output_type": "display_data"
    }
   ],
   "source": [
    "import pandas as pd\n",
    "import seaborn as sns\n",
    "import matplotlib.pyplot as plt\n",
    "\n",
    "# Group the reviews dataset by 'book_id' and calculate the count of reviews for each book\n",
    "reviews_count = reviews['book_id'].value_counts()\n",
    "\n",
    "# Get the top 10 most reviewed books\n",
    "top_10_most_reviewed_books = reviews_count.head(10)\n",
    "\n",
    "# Display the top 10 most reviewed books\n",
    "print(\"Top 10 Most Reviewed Books:\")\n",
    "for book_id, reviews_count in top_10_most_reviewed_books.items():\n",
    "    book_title = titles.loc[titles['book_id'] == book_id, 'title'].values[0]\n",
    "    print(f\"{book_title}: {reviews_count} reviews\")\n",
    "\n",
    "# Create a bar plot to visualize the number of reviews for each book\n",
    "plt.figure(figsize=(12, 6))\n",
    "sns.barplot(x=top_10_most_reviewed_books.index, y=top_10_most_reviewed_books.values, palette='viridis')\n",
    "plt.xlabel('Book ID')\n",
    "plt.ylabel('Number of Reviews')\n",
    "plt.title('Top 10 Most Reviewed Books')\n",
    "plt.show()"
   ]
  },
  {
   "cell_type": "markdown",
   "id": "2d775b6f",
   "metadata": {},
   "source": [
    "The above plot shows us the top 10 most reviewed books in order: \n",
    "- The Fault in Our Stars: 20756 reviews\n",
    "- The Hunger Games (The Hunger Games, #1): 18617 reviews\n",
    "- Mockingjay (The Hunger Games, #3): 13536 reviews\n",
    "- The Girl on the Train: 13402 reviews\n",
    "- Catching Fire (The Hunger Games, #2): 11904 reviews\n",
    "- The Book Thief: 11300 reviews\n",
    "- Fifty Shades of Grey (Fifty Shades, #1): 11184 reviews\n",
    "- Divergent (Divergent, #1): 10743 reviews\n",
    "- Twilight (Twilight, #1): 10535 reviews\n",
    "- The Martian: 9590 reviews"
   ]
  },
  {
   "cell_type": "markdown",
   "id": "0b71a353",
   "metadata": {},
   "source": [
    "### Question 8: What is the genre distribution for the most highly reviewed books?"
   ]
  },
  {
   "cell_type": "code",
   "execution_count": 32,
   "id": "0250d32f",
   "metadata": {
    "scrolled": true,
    "tags": []
   },
   "outputs": [
    {
     "data": {
      "image/png": "[encoded data removed]",
      "text/plain": [
       "<Figure size 1000x1200 with 10 Axes>"
      ]
     },
     "metadata": {},
     "output_type": "display_data"
    }
   ],
   "source": [
    "import pandas as pd\n",
    "import matplotlib.pyplot as plt\n",
    "import numpy as np\n",
    "from matplotlib.patches import Patch\n",
    "\n",
    "# Group the reviews dataset by 'book_id' and calculate the count of reviews for each book\n",
    "reviews_count = reviews['book_id'].value_counts()\n",
    "\n",
    "# Get the top 10 most reviewed books\n",
    "top_10_most_reviewed_books = reviews_count.head(10)\n",
    "\n",
    "# Assuming you have a genres dataset with columns 'book_id', 'fantasy', 'paranormal', 'fiction', ...\n",
    "# Let's call this dataset 'cleaned_genres'\n",
    "\n",
    "# Join the titles dataset with the genres dataset to get the genres information\n",
    "top_10_most_reviewed_books_genres = pd.merge(top_10_most_reviewed_books.reset_index(), cleaned_genres, left_on='book_id', right_on='book_id', how='left')\n",
    "\n",
    "# Set up colors for genres using the 'tab10' color map\n",
    "genre_colors = plt.cm.Paired(np.arange(len(cleaned_genres.columns[1:])))\n",
    "\n",
    "# Display the top 10 most reviewed books and their genres in a 5x2 grid with a single legend\n",
    "fig, axes = plt.subplots(nrows=5, ncols=2, figsize=(10, 12))\n",
    "fig.suptitle('Genres Distribution for Top 10 Most Reviewed Books')\n",
    "\n",
    "# Initialize a set to track unique legend labels\n",
    "unique_legend_labels = set()\n",
    "\n",
    "for i, (ax, (_, row)) in enumerate(zip(axes.flatten(), top_10_most_reviewed_books_genres.iterrows())):\n",
    "    book_id, book_title = row['book_id'], titles.loc[titles['book_id'] == row['book_id'], 'title'].values[0]\n",
    "    book_genres = [genre for genre in cleaned_genres.columns[1:] if row[genre]]\n",
    "\n",
    "    # Plot a pie chart for each book's genres without autopct\n",
    "    wedges, _ = ax.pie([1] * len(book_genres), startangle=140, colors=genre_colors)\n",
    "    ax.set_title(book_title)\n",
    "\n",
    "    # Add genres to the set for the legend\n",
    "    unique_legend_labels.update(book_genres)\n",
    "\n",
    "# Create proxy artists for the legend\n",
    "legend_handles = [Patch(color=color, label=label) for color, label in zip(genre_colors, unique_legend_labels)]\n",
    "\n",
    "# Create a single legend for all the unique genres with reduced spacing\n",
    "fig.legend(handles=legend_handles, title='Genres', loc='center left', bbox_to_anchor=(0.75, 0.5), fancybox=True, borderaxespad=0.5)\n",
    "\n",
    "# Adjust layout\n",
    "plt.tight_layout(rect=[0, 0.03, 0.88, 0.95])\n",
    "\n",
    "# Show the plots\n",
    "plt.show()"
   ]
  },
  {
   "cell_type": "markdown",
   "id": "70aad48e",
   "metadata": {},
   "source": [
    "The above questions and visulalizations provide us an initial yet holistic view of the data that we are dealing with. The following section will include a further analysis through the use of ML models. "
   ]
  },
  {
   "cell_type": "markdown",
   "id": "f8c11ee1",
   "metadata": {},
   "source": [
    "## Data Modeling "
   ]
  },
  {
   "cell_type": "markdown",
   "id": "871b0758",
   "metadata": {},
   "source": [
    "This section of our notebook handles the fundamental processing of our data and the actual implementation of our book recommender system. Here we will be implmenting and testing the best fitting models for our recommender. \n",
    "\n",
    "We have selected the following models for implementation in this section:\n",
    "- Logistic Regression based on genres to determine if 3.5 is the average rating for books\n",
    "- Text analysis using TF-IDF matrix for search functionality \n",
    "- Collaborative Filtering to build recommender \n",
    "\n",
    "\n",
    "Moreover, in order to determine how well these models work, we have chosen to use the following metrics as well:\n",
    "\n",
    "1. Logistic Regression\n",
    "    - Accuracy \n",
    "    - Precision \n",
    "    - Confusion Matrix\n",
    "    - Summary Statistics\n",
    "2. Text analysis using TF-IDF \n",
    "    - Similarity Score \n",
    "    - Domain Knowledge\n",
    "3. Collaborative filtering for recommendations \n",
    "    - Similarity Score \n",
    "    - Matrix operations \n",
    "    - Domain Knowledge"
   ]
  },
  {
   "cell_type": "markdown",
   "id": "ce1e0efb",
   "metadata": {},
   "source": [
    "### Necessary Imports for Modeling "
   ]
  },
  {
   "cell_type": "code",
   "execution_count": 33,
   "id": "38bdbec2",
   "metadata": {
    "tags": []
   },
   "outputs": [],
   "source": [
    "from sklearn.model_selection import train_test_split\n",
    "from sklearn.linear_model import LogisticRegression\n",
    "from sklearn.metrics import accuracy_score, classification_report, confusion_matrix\n",
    "from sklearn.feature_extraction.text import TfidfVectorizer\n",
    "from sklearn.metrics.pairwise import cosine_similarity\n",
    "from scipy.sparse import coo_matrix"
   ]
  },
  {
   "cell_type": "markdown",
   "id": "9f69c316",
   "metadata": {},
   "source": [
    "### 1. Logistic Regression based on genres to determine 3.5 is average rating for a book"
   ]
  },
  {
   "cell_type": "code",
   "execution_count": 34,
   "id": "ecb41797",
   "metadata": {
    "scrolled": true,
    "tags": []
   },
   "outputs": [
    {
     "name": "stdout",
     "output_type": "stream",
     "text": [
      "Accuracy: 0.9997928818156916\n",
      "              precision    recall  f1-score   support\n",
      "\n",
      "           0       1.00      1.00      1.00     61853\n",
      "           1       1.00      1.00      1.00    387166\n",
      "\n",
      "    accuracy                           1.00    449019\n",
      "   macro avg       1.00      1.00      1.00    449019\n",
      "weighted avg       1.00      1.00      1.00    449019\n",
      "\n",
      "[[ 61760     93]\n",
      " [     0 387166]]\n"
     ]
    }
   ],
   "source": [
    "# USING SCIKIT LEARN\n",
    "# Set the threshold for 'average_rating' to classify as high or low\n",
    "threshold = 3.5\n",
    "\n",
    "# Remove extra spaces at the end of column names\n",
    "cleaned_genres.columns = cleaned_genres.columns.str.strip()\n",
    "\n",
    "# Merge the datasets on 'book_id'\n",
    "merged_data = pd.merge(cleaned_genres, titles[['book_id', 'text_review_count', 'average_rating']], on='book_id', how='inner')\n",
    "\n",
    "# Create a binary outcome variable indicating high or low rating\n",
    "merged_data['high_rating'] = (merged_data['average_rating'] >= threshold).astype(int)\n",
    "\n",
    "# Select features for the logistic regression model\n",
    "X = merged_data[['average_rating','text_review_count','fantasy', 'paranormal', 'fiction', 'mystery', 'thriller', 'crime',\n",
    "                 'poetry', 'romance', 'non-fiction', 'history', 'historical fiction',\n",
    "                 'biography', 'children', 'young-adult', 'comics', 'graphic']]\n",
    "\n",
    "# Target variable\n",
    "Y = merged_data['high_rating']\n",
    "\n",
    "# Split the data into training and testing sets\n",
    "X_train, X_test, Y_train, Y_test = train_test_split(X, Y, test_size=0.3, random_state=101)\n",
    "\n",
    "# Build the logistic regression model\n",
    "model = LogisticRegression(max_iter=1000)  # Increase max_iter to 1000 or higher\n",
    "\n",
    "# Train the model\n",
    "model.fit(X_train, Y_train)\n",
    "\n",
    "# Make predictions\n",
    "predictions = model.predict(X_test)\n",
    "\n",
    "# Evaluate the model\n",
    "accuracy = accuracy_score(Y_test, predictions)\n",
    "print(f\"Accuracy: {accuracy}\")\n",
    "\n",
    "# Additional evaluation metrics\n",
    "print(classification_report(Y_test, predictions, zero_division = 1))\n",
    "print(confusion_matrix(Y_test, predictions))"
   ]
  },
  {
   "cell_type": "markdown",
   "id": "6e9d05ba",
   "metadata": {
    "tags": []
   },
   "source": [
    "### 2. Text analysis for search functionality "
   ]
  },
  {
   "cell_type": "code",
   "execution_count": 35,
   "id": "6c5c1674",
   "metadata": {
    "tags": []
   },
   "outputs": [],
   "source": [
    "# adding clickable feature to links \n",
    "def make_clickable(val):\n",
    "    return '<a target=\"_blank\" href=\"{}\">Goodreads</a>'.format(val)\n",
    "def show_image(val):\n",
    "    return '<img src =\"{}\" width=50></img>'.format(val)"
   ]
  },
  {
   "cell_type": "code",
   "execution_count": 36,
   "id": "7eebe624",
   "metadata": {
    "tags": []
   },
   "outputs": [],
   "source": [
    "#This is to store our titles dataset in order to implement the web app \n",
    "pickle.dump(titles, open('titles.pkl', 'wb'))"
   ]
  },
  {
   "cell_type": "code",
   "execution_count": 37,
   "id": "b452fa59",
   "metadata": {
    "tags": []
   },
   "outputs": [],
   "source": [
    "# Building a book Search Engine for the Recommender \n",
    "vectorizer = TfidfVectorizer()\n",
    "Tfidf = vectorizer.fit_transform(titles['mod_title'])\n",
    "\n",
    "#return the 5 most similar to the title \n",
    "def search(query, vectorizer):\n",
    "    processed = re.sub(\"[^a-zA-Z0-9 ]\", \"\", query.lower())\n",
    "    query_vec = vectorizer.transform([processed])\n",
    "    similarity = cosine_similarity(query_vec, Tfidf).flatten()\n",
    "    indices = np.argpartition(similarity, -10)[-10:]\n",
    "    results = titles.iloc[indices]\n",
    "    results = results.sort_values('ratings', ascending = False)\n",
    "    return results.head(3).style.format({'url': make_clickable, 'cover_image': show_image})"
   ]
  },
  {
   "cell_type": "code",
   "execution_count": 38,
   "id": "72f23a83",
   "metadata": {},
   "outputs": [
    {
     "data": {
      "text/html": [
       "<style type=\"text/css\">\n",
       "</style>\n",
       "<table id=\"T_27b54\">\n",
       "  <thead>\n",
       "    <tr>\n",
       "      <th class=\"blank level0\" >&nbsp;</th>\n",
       "      <th id=\"T_27b54_level0_col0\" class=\"col_heading level0 col0\" >book_id</th>\n",
       "      <th id=\"T_27b54_level0_col1\" class=\"col_heading level0 col1\" >title</th>\n",
       "      <th id=\"T_27b54_level0_col2\" class=\"col_heading level0 col2\" >ratings</th>\n",
       "      <th id=\"T_27b54_level0_col3\" class=\"col_heading level0 col3\" >average_rating</th>\n",
       "      <th id=\"T_27b54_level0_col4\" class=\"col_heading level0 col4\" >url</th>\n",
       "      <th id=\"T_27b54_level0_col5\" class=\"col_heading level0 col5\" >cover_image</th>\n",
       "      <th id=\"T_27b54_level0_col6\" class=\"col_heading level0 col6\" >num_pages</th>\n",
       "      <th id=\"T_27b54_level0_col7\" class=\"col_heading level0 col7\" >publication_year</th>\n",
       "      <th id=\"T_27b54_level0_col8\" class=\"col_heading level0 col8\" >publisher</th>\n",
       "      <th id=\"T_27b54_level0_col9\" class=\"col_heading level0 col9\" >mod_title</th>\n",
       "      <th id=\"T_27b54_level0_col10\" class=\"col_heading level0 col10\" >text_review_count</th>\n",
       "    </tr>\n",
       "  </thead>\n",
       "  <tbody>\n",
       "    <tr>\n",
       "      <th id=\"T_27b54_level0_row0\" class=\"row_heading level0 row0\" >649980</th>\n",
       "      <td id=\"T_27b54_row0_col0\" class=\"data row0 col0\" >6053292</td>\n",
       "      <td id=\"T_27b54_row0_col1\" class=\"data row0 col1\" >The Hunger Games (The Hunger Games, #1)</td>\n",
       "      <td id=\"T_27b54_row0_col2\" class=\"data row0 col2\" >7425</td>\n",
       "      <td id=\"T_27b54_row0_col3\" class=\"data row0 col3\" >4.340000</td>\n",
       "      <td id=\"T_27b54_row0_col4\" class=\"data row0 col4\" ><a target=\"_blank\" href=\"https://www.goodreads.com/book/show/6053292-the-hunger-games\">Goodreads</a></td>\n",
       "      <td id=\"T_27b54_row0_col5\" class=\"data row0 col5\" ><img src =\"https://images.gr-assets.com/books/1353517172m/6053292.jpg\" width=50></img></td>\n",
       "      <td id=\"T_27b54_row0_col6\" class=\"data row0 col6\" >436</td>\n",
       "      <td id=\"T_27b54_row0_col7\" class=\"data row0 col7\" >2009</td>\n",
       "      <td id=\"T_27b54_row0_col8\" class=\"data row0 col8\" >Scholastic</td>\n",
       "      <td id=\"T_27b54_row0_col9\" class=\"data row0 col9\" >the hunger games (the hunger games, #1)</td>\n",
       "      <td id=\"T_27b54_row0_col10\" class=\"data row0 col10\" >3.000000</td>\n",
       "    </tr>\n",
       "    <tr>\n",
       "      <th id=\"T_27b54_level0_row1\" class=\"row_heading level0 row1\" >1293048</th>\n",
       "      <td id=\"T_27b54_row1_col0\" class=\"data row1 col0\" >7107665</td>\n",
       "      <td id=\"T_27b54_row1_col1\" class=\"data row1 col1\" >The Hunger Games (The Hunger Games, #1)</td>\n",
       "      <td id=\"T_27b54_row1_col2\" class=\"data row1 col2\" >5426</td>\n",
       "      <td id=\"T_27b54_row1_col3\" class=\"data row1 col3\" >4.340000</td>\n",
       "      <td id=\"T_27b54_row1_col4\" class=\"data row1 col4\" ><a target=\"_blank\" href=\"https://www.goodreads.com/book/show/7107665-the-hunger-games\">Goodreads</a></td>\n",
       "      <td id=\"T_27b54_row1_col5\" class=\"data row1 col5\" ><img src =\"https://images.gr-assets.com/books/1295861463m/7107665.jpg\" width=50></img></td>\n",
       "      <td id=\"T_27b54_row1_col6\" class=\"data row1 col6\" >358</td>\n",
       "      <td id=\"T_27b54_row1_col7\" class=\"data row1 col7\" >2009</td>\n",
       "      <td id=\"T_27b54_row1_col8\" class=\"data row1 col8\" >Scholastic</td>\n",
       "      <td id=\"T_27b54_row1_col9\" class=\"data row1 col9\" >the hunger games (the hunger games, #1)</td>\n",
       "      <td id=\"T_27b54_row1_col10\" class=\"data row1 col10\" >895.000000</td>\n",
       "    </tr>\n",
       "    <tr>\n",
       "      <th id=\"T_27b54_level0_row2\" class=\"row_heading level0 row2\" >1458109</th>\n",
       "      <td id=\"T_27b54_row2_col0\" class=\"data row2 col0\" >7077211</td>\n",
       "      <td id=\"T_27b54_row2_col1\" class=\"data row2 col1\" >The Hunger Games (The Hunger Games, #1)</td>\n",
       "      <td id=\"T_27b54_row2_col2\" class=\"data row2 col2\" >1016</td>\n",
       "      <td id=\"T_27b54_row2_col3\" class=\"data row2 col3\" >4.340000</td>\n",
       "      <td id=\"T_27b54_row2_col4\" class=\"data row2 col4\" ><a target=\"_blank\" href=\"https://www.goodreads.com/book/show/7077211-the-hunger-games\">Goodreads</a></td>\n",
       "      <td id=\"T_27b54_row2_col5\" class=\"data row2 col5\" ><img src =\"https://images.gr-assets.com/books/1257003617m/7077211.jpg\" width=50></img></td>\n",
       "      <td id=\"T_27b54_row2_col6\" class=\"data row2 col6\" >408</td>\n",
       "      <td id=\"T_27b54_row2_col7\" class=\"data row2 col7\" >2009</td>\n",
       "      <td id=\"T_27b54_row2_col8\" class=\"data row2 col8\" >Gramedia Pustaka Utama</td>\n",
       "      <td id=\"T_27b54_row2_col9\" class=\"data row2 col9\" >the hunger games (the hunger games, #1)</td>\n",
       "      <td id=\"T_27b54_row2_col10\" class=\"data row2 col10\" >4.000000</td>\n",
       "    </tr>\n",
       "  </tbody>\n",
       "</table>\n"
      ],
      "text/plain": [
       "<pandas.io.formats.style.Styler at 0x2cf584310>"
      ]
     },
     "execution_count": 38,
     "metadata": {},
     "output_type": "execute_result"
    }
   ],
   "source": [
    "#example usage for search query \n",
    "search(\"the hunger games\", vectorizer)"
   ]
  },
  {
   "cell_type": "markdown",
   "id": "1970692e",
   "metadata": {},
   "source": [
    "### 3. Collaborative filtering for the recommender "
   ]
  },
  {
   "cell_type": "code",
   "execution_count": 40,
   "id": "e8f001ca",
   "metadata": {
    "tags": []
   },
   "outputs": [
    {
     "data": {
      "text/html": [
       "<div>\n",
       "<style scoped>\n",
       "    .dataframe tbody tr th:only-of-type {\n",
       "        vertical-align: middle;\n",
       "    }\n",
       "\n",
       "    .dataframe tbody tr th {\n",
       "        vertical-align: top;\n",
       "    }\n",
       "\n",
       "    .dataframe thead th {\n",
       "        text-align: right;\n",
       "    }\n",
       "</style>\n",
       "<table border=\"1\" class=\"dataframe\">\n",
       "  <thead>\n",
       "    <tr style=\"text-align: right;\">\n",
       "      <th></th>\n",
       "      <th>user_id</th>\n",
       "      <th>book_id</th>\n",
       "      <th>rating</th>\n",
       "      <th>title</th>\n",
       "    </tr>\n",
       "  </thead>\n",
       "  <tbody>\n",
       "    <tr>\n",
       "      <th>0</th>\n",
       "      <td>-1</td>\n",
       "      <td>99298</td>\n",
       "      <td>4.66</td>\n",
       "      <td>The Harry Potter Collection 1-4 (Harry Potter,...</td>\n",
       "    </tr>\n",
       "    <tr>\n",
       "      <th>1</th>\n",
       "      <td>-1</td>\n",
       "      <td>7848832</td>\n",
       "      <td>4.23</td>\n",
       "      <td>The Lightning Thief (Percy Jackson and the Oly...</td>\n",
       "    </tr>\n",
       "    <tr>\n",
       "      <th>2</th>\n",
       "      <td>-1</td>\n",
       "      <td>18661631</td>\n",
       "      <td>4.34</td>\n",
       "      <td>The Hunger Games (Hunger Games, #1)</td>\n",
       "    </tr>\n",
       "    <tr>\n",
       "      <th>3</th>\n",
       "      <td>-1</td>\n",
       "      <td>8574414</td>\n",
       "      <td>4.30</td>\n",
       "      <td>Catching Fire (Hunger Games, #2)</td>\n",
       "    </tr>\n",
       "    <tr>\n",
       "      <th>4</th>\n",
       "      <td>-1</td>\n",
       "      <td>7260188</td>\n",
       "      <td>4.03</td>\n",
       "      <td>Mockingjay (The Hunger Games, #3)</td>\n",
       "    </tr>\n",
       "    <tr>\n",
       "      <th>5</th>\n",
       "      <td>-1</td>\n",
       "      <td>16096824</td>\n",
       "      <td>4.28</td>\n",
       "      <td>A Court of Thorns and Roses (A Court of Thorns...</td>\n",
       "    </tr>\n",
       "    <tr>\n",
       "      <th>6</th>\n",
       "      <td>-1</td>\n",
       "      <td>11809168</td>\n",
       "      <td>4.01</td>\n",
       "      <td>Shatter Me (Shatter Me, #1)</td>\n",
       "    </tr>\n",
       "    <tr>\n",
       "      <th>7</th>\n",
       "      <td>-1</td>\n",
       "      <td>198719</td>\n",
       "      <td>4.01</td>\n",
       "      <td>The Girl with the Silver Eyes</td>\n",
       "    </tr>\n",
       "    <tr>\n",
       "      <th>8</th>\n",
       "      <td>-1</td>\n",
       "      <td>27362503</td>\n",
       "      <td>4.43</td>\n",
       "      <td>It Ends with Us</td>\n",
       "    </tr>\n",
       "    <tr>\n",
       "      <th>9</th>\n",
       "      <td>-1</td>\n",
       "      <td>11221313</td>\n",
       "      <td>3.79</td>\n",
       "      <td>Verity (Cursed, #1)</td>\n",
       "    </tr>\n",
       "    <tr>\n",
       "      <th>10</th>\n",
       "      <td>-1</td>\n",
       "      <td>6692041</td>\n",
       "      <td>4.35</td>\n",
       "      <td>Mornings in Jenin</td>\n",
       "    </tr>\n",
       "    <tr>\n",
       "      <th>11</th>\n",
       "      <td>-1</td>\n",
       "      <td>128029</td>\n",
       "      <td>4.34</td>\n",
       "      <td>A Thousand Splendid Suns</td>\n",
       "    </tr>\n",
       "    <tr>\n",
       "      <th>12</th>\n",
       "      <td>-1</td>\n",
       "      <td>23437156</td>\n",
       "      <td>4.46</td>\n",
       "      <td>Six of Crows (Six of Crows, #1)</td>\n",
       "    </tr>\n",
       "    <tr>\n",
       "      <th>13</th>\n",
       "      <td>-1</td>\n",
       "      <td>10863118</td>\n",
       "      <td>4.08</td>\n",
       "      <td>Inheritance (Inheritance, #4)</td>\n",
       "    </tr>\n",
       "  </tbody>\n",
       "</table>\n",
       "</div>"
      ],
      "text/plain": [
       "    user_id   book_id  rating  \\\n",
       "0        -1     99298    4.66   \n",
       "1        -1   7848832    4.23   \n",
       "2        -1  18661631    4.34   \n",
       "3        -1   8574414    4.30   \n",
       "4        -1   7260188    4.03   \n",
       "5        -1  16096824    4.28   \n",
       "6        -1  11809168    4.01   \n",
       "7        -1    198719    4.01   \n",
       "8        -1  27362503    4.43   \n",
       "9        -1  11221313    3.79   \n",
       "10       -1   6692041    4.35   \n",
       "11       -1    128029    4.34   \n",
       "12       -1  23437156    4.46   \n",
       "13       -1  10863118    4.08   \n",
       "\n",
       "                                                title  \n",
       "0   The Harry Potter Collection 1-4 (Harry Potter,...  \n",
       "1   The Lightning Thief (Percy Jackson and the Oly...  \n",
       "2                 The Hunger Games (Hunger Games, #1)  \n",
       "3                    Catching Fire (Hunger Games, #2)  \n",
       "4                   Mockingjay (The Hunger Games, #3)  \n",
       "5   A Court of Thorns and Roses (A Court of Thorns...  \n",
       "6                         Shatter Me (Shatter Me, #1)  \n",
       "7                       The Girl with the Silver Eyes  \n",
       "8                                     It Ends with Us  \n",
       "9                                 Verity (Cursed, #1)  \n",
       "10                                  Mornings in Jenin  \n",
       "11                           A Thousand Splendid Suns  \n",
       "12                    Six of Crows (Six of Crows, #1)  \n",
       "13                      Inheritance (Inheritance, #4)  "
      ]
     },
     "execution_count": 40,
     "metadata": {},
     "output_type": "execute_result"
    }
   ],
   "source": [
    "# In order to proceed with this part, we created a personal list of liked books \n",
    "# import the liked list \n",
    "\n",
    "my_books = pd.read_pickle(\"liked_books.pkl\")\n",
    "my_books[\"book_id\"] = my_books[\"book_id\"].astype(str)\n",
    "\n",
    "my_books"
   ]
  },
  {
   "cell_type": "code",
   "execution_count": 41,
   "id": "2de9d530-44b0-4fea-8ae6-193874887103",
   "metadata": {
    "tags": []
   },
   "outputs": [],
   "source": [
    "#stream through the user book mapping \n",
    "csv_book_mapping = {}\n",
    "\n",
    "with open(\"book_id_map.csv\", \"r\") as f:\n",
    "    while True:\n",
    "        line = f.readline()\n",
    "        if not line:\n",
    "            break\n",
    "        csv_id, book_id = line.strip().split(\",\")\n",
    "        csv_book_mapping[csv_id] = book_id"
   ]
  },
  {
   "cell_type": "code",
   "execution_count": 42,
   "id": "04ad49b9-3fa8-4f8e-9a65-9163ea7b2f9b",
   "metadata": {
    "tags": []
   },
   "outputs": [],
   "source": [
    "#create my book set \n",
    "book_set = set(my_books[\"book_id\"])"
   ]
  },
  {
   "cell_type": "code",
   "execution_count": 43,
   "id": "31eb43a4-6fd8-46ed-afc1-9b422b82df31",
   "metadata": {
    "tags": []
   },
   "outputs": [],
   "source": [
    "# create ovelapping user set \n",
    "\n",
    "overlap_users = {}\n",
    "\n",
    "with open(\"goodreads_interactions.csv\", 'r') as f:\n",
    "    while True:\n",
    "        line = f.readline()\n",
    "        if not line:\n",
    "            break\n",
    "        user_id, csv_id, _, rating, _ = line.split(\",\")\n",
    "        \n",
    "        book_id = csv_book_mapping.get(csv_id)\n",
    "        \n",
    "        if book_id in book_set:\n",
    "            if user_id not in overlap_users:\n",
    "                overlap_users[user_id] = 1\n",
    "            else:\n",
    "                overlap_users[user_id] += 1"
   ]
  },
  {
   "cell_type": "code",
   "execution_count": 44,
   "id": "fb7289f3-7e85-4d69-a384-99ce5f74bb1c",
   "metadata": {
    "tags": []
   },
   "outputs": [
    {
     "data": {
      "text/plain": [
       "32276"
      ]
     },
     "execution_count": 44,
     "metadata": {},
     "output_type": "execute_result"
    }
   ],
   "source": [
    "# make a filtered list to match my liked books and ratings \n",
    "filtered_overlap_users = set([k for k in overlap_users if overlap_users[k] > my_books.shape[0]/5])\n",
    "len(filtered_overlap_users)"
   ]
  },
  {
   "cell_type": "code",
   "execution_count": 45,
   "id": "b6afcb98-e7c1-43a6-897d-5f5e278b7494",
   "metadata": {
    "tags": []
   },
   "outputs": [],
   "source": [
    "# create a list for the interactions \n",
    "interactions_list = []\n",
    "\n",
    "with open(\"goodreads_interactions.csv\", 'r') as f:\n",
    "    while True:\n",
    "        line = f.readline()\n",
    "        if not line:\n",
    "            break\n",
    "        user_id, csv_id, _, rating, _ = line.split(\",\")\n",
    "        \n",
    "        if user_id in filtered_overlap_users:\n",
    "            book_id = csv_book_mapping[csv_id]\n",
    "            interactions_list.append([user_id, book_id, rating])"
   ]
  },
  {
   "cell_type": "code",
   "execution_count": 46,
   "id": "9f21633d-2250-43dc-8a9b-447e884c51ce",
   "metadata": {
    "tags": []
   },
   "outputs": [],
   "source": [
    "# append our liked list to the interractions list \n",
    "interactions = pd.DataFrame(interactions_list, columns=[\"user_id\", \"book_id\", \"rating\"])\n",
    "interactions = pd.concat([my_books[[\"user_id\", \"book_id\", \"rating\"]], interactions])"
   ]
  },
  {
   "cell_type": "code",
   "execution_count": 47,
   "id": "870433aa-8fe9-430b-a50f-b922e922ca64",
   "metadata": {
    "tags": []
   },
   "outputs": [],
   "source": [
    "# checking the datatypes are aligned \n",
    "interactions[\"book_id\"] = interactions[\"book_id\"].astype(str)\n",
    "interactions[\"user_id\"] = interactions[\"user_id\"].astype(str)\n",
    "interactions[\"rating\"] = pd.to_numeric(interactions[\"rating\"])"
   ]
  },
  {
   "cell_type": "code",
   "execution_count": 48,
   "id": "36d8e37f-b70d-4947-bdb6-ebbecd95a82a",
   "metadata": {
    "tags": []
   },
   "outputs": [],
   "source": [
    "# getting index to build matrix \n",
    "interactions[\"user_index\"] = interactions[\"user_id\"].astype(\"category\").cat.codes\n",
    "interactions[\"book_index\"] = interactions[\"book_id\"].astype(\"category\").cat.codes"
   ]
  },
  {
   "cell_type": "code",
   "execution_count": 49,
   "id": "4c81ec2a-2282-48be-b07a-95f1985400e9",
   "metadata": {
    "tags": []
   },
   "outputs": [
    {
     "data": {
      "text/html": [
       "<div>\n",
       "<style scoped>\n",
       "    .dataframe tbody tr th:only-of-type {\n",
       "        vertical-align: middle;\n",
       "    }\n",
       "\n",
       "    .dataframe tbody tr th {\n",
       "        vertical-align: top;\n",
       "    }\n",
       "\n",
       "    .dataframe thead th {\n",
       "        text-align: right;\n",
       "    }\n",
       "</style>\n",
       "<table border=\"1\" class=\"dataframe\">\n",
       "  <thead>\n",
       "    <tr style=\"text-align: right;\">\n",
       "      <th></th>\n",
       "      <th>user_id</th>\n",
       "      <th>book_id</th>\n",
       "      <th>rating</th>\n",
       "      <th>user_index</th>\n",
       "      <th>book_index</th>\n",
       "    </tr>\n",
       "  </thead>\n",
       "  <tbody>\n",
       "    <tr>\n",
       "      <th>0</th>\n",
       "      <td>-1</td>\n",
       "      <td>99298</td>\n",
       "      <td>4.66</td>\n",
       "      <td>0</td>\n",
       "      <td>1281538</td>\n",
       "    </tr>\n",
       "    <tr>\n",
       "      <th>1</th>\n",
       "      <td>-1</td>\n",
       "      <td>7848832</td>\n",
       "      <td>4.23</td>\n",
       "      <td>0</td>\n",
       "      <td>1179344</td>\n",
       "    </tr>\n",
       "    <tr>\n",
       "      <th>2</th>\n",
       "      <td>-1</td>\n",
       "      <td>18661631</td>\n",
       "      <td>4.34</td>\n",
       "      <td>0</td>\n",
       "      <td>399938</td>\n",
       "    </tr>\n",
       "    <tr>\n",
       "      <th>3</th>\n",
       "      <td>-1</td>\n",
       "      <td>8574414</td>\n",
       "      <td>4.30</td>\n",
       "      <td>0</td>\n",
       "      <td>1220412</td>\n",
       "    </tr>\n",
       "    <tr>\n",
       "      <th>4</th>\n",
       "      <td>-1</td>\n",
       "      <td>7260188</td>\n",
       "      <td>4.03</td>\n",
       "      <td>0</td>\n",
       "      <td>1151041</td>\n",
       "    </tr>\n",
       "    <tr>\n",
       "      <th>5</th>\n",
       "      <td>-1</td>\n",
       "      <td>16096824</td>\n",
       "      <td>4.28</td>\n",
       "      <td>0</td>\n",
       "      <td>258025</td>\n",
       "    </tr>\n",
       "    <tr>\n",
       "      <th>6</th>\n",
       "      <td>-1</td>\n",
       "      <td>11809168</td>\n",
       "      <td>4.01</td>\n",
       "      <td>0</td>\n",
       "      <td>76270</td>\n",
       "    </tr>\n",
       "    <tr>\n",
       "      <th>7</th>\n",
       "      <td>-1</td>\n",
       "      <td>198719</td>\n",
       "      <td>4.01</td>\n",
       "      <td>0</td>\n",
       "      <td>450526</td>\n",
       "    </tr>\n",
       "    <tr>\n",
       "      <th>8</th>\n",
       "      <td>-1</td>\n",
       "      <td>27362503</td>\n",
       "      <td>4.43</td>\n",
       "      <td>0</td>\n",
       "      <td>755892</td>\n",
       "    </tr>\n",
       "    <tr>\n",
       "      <th>9</th>\n",
       "      <td>-1</td>\n",
       "      <td>11221313</td>\n",
       "      <td>3.79</td>\n",
       "      <td>0</td>\n",
       "      <td>50949</td>\n",
       "    </tr>\n",
       "    <tr>\n",
       "      <th>10</th>\n",
       "      <td>-1</td>\n",
       "      <td>6692041</td>\n",
       "      <td>4.35</td>\n",
       "      <td>0</td>\n",
       "      <td>1118339</td>\n",
       "    </tr>\n",
       "    <tr>\n",
       "      <th>11</th>\n",
       "      <td>-1</td>\n",
       "      <td>128029</td>\n",
       "      <td>4.34</td>\n",
       "      <td>0</td>\n",
       "      <td>116130</td>\n",
       "    </tr>\n",
       "    <tr>\n",
       "      <th>12</th>\n",
       "      <td>-1</td>\n",
       "      <td>23437156</td>\n",
       "      <td>4.46</td>\n",
       "      <td>0</td>\n",
       "      <td>592859</td>\n",
       "    </tr>\n",
       "    <tr>\n",
       "      <th>13</th>\n",
       "      <td>-1</td>\n",
       "      <td>10863118</td>\n",
       "      <td>4.08</td>\n",
       "      <td>0</td>\n",
       "      <td>36544</td>\n",
       "    </tr>\n",
       "  </tbody>\n",
       "</table>\n",
       "</div>"
      ],
      "text/plain": [
       "   user_id   book_id  rating  user_index  book_index\n",
       "0       -1     99298    4.66           0     1281538\n",
       "1       -1   7848832    4.23           0     1179344\n",
       "2       -1  18661631    4.34           0      399938\n",
       "3       -1   8574414    4.30           0     1220412\n",
       "4       -1   7260188    4.03           0     1151041\n",
       "5       -1  16096824    4.28           0      258025\n",
       "6       -1  11809168    4.01           0       76270\n",
       "7       -1    198719    4.01           0      450526\n",
       "8       -1  27362503    4.43           0      755892\n",
       "9       -1  11221313    3.79           0       50949\n",
       "10      -1   6692041    4.35           0     1118339\n",
       "11      -1    128029    4.34           0      116130\n",
       "12      -1  23437156    4.46           0      592859\n",
       "13      -1  10863118    4.08           0       36544"
      ]
     },
     "execution_count": 49,
     "metadata": {},
     "output_type": "execute_result"
    }
   ],
   "source": [
    "# creating the matrix and viewing our user information\n",
    "ratings_mat_coo = coo_matrix((interactions[\"rating\"], (interactions[\"user_index\"], interactions[\"book_index\"])))\n",
    "ratings_mat = ratings_mat_coo.tocsr()\n",
    "interactions[interactions[\"user_id\"] == \"-1\"]"
   ]
  },
  {
   "cell_type": "code",
   "execution_count": 50,
   "id": "d3409652-f601-4f6a-9ff2-ecbf18101a9d",
   "metadata": {
    "tags": []
   },
   "outputs": [],
   "source": [
    "my_index = 0 "
   ]
  },
  {
   "cell_type": "code",
   "execution_count": 51,
   "id": "c82d4779-d694-4b38-b34b-bdcaca390259",
   "metadata": {
    "tags": []
   },
   "outputs": [
    {
     "data": {
      "text/html": [
       "<div>\n",
       "<style scoped>\n",
       "    .dataframe tbody tr th:only-of-type {\n",
       "        vertical-align: middle;\n",
       "    }\n",
       "\n",
       "    .dataframe tbody tr th {\n",
       "        vertical-align: top;\n",
       "    }\n",
       "\n",
       "    .dataframe thead th {\n",
       "        text-align: right;\n",
       "    }\n",
       "</style>\n",
       "<table border=\"1\" class=\"dataframe\">\n",
       "  <thead>\n",
       "    <tr style=\"text-align: right;\">\n",
       "      <th></th>\n",
       "      <th>user_id</th>\n",
       "      <th>book_id</th>\n",
       "      <th>rating</th>\n",
       "      <th>user_index</th>\n",
       "      <th>book_index</th>\n",
       "    </tr>\n",
       "  </thead>\n",
       "  <tbody>\n",
       "    <tr>\n",
       "      <th>26443283</th>\n",
       "      <td>325727</td>\n",
       "      <td>23395098</td>\n",
       "      <td>0.0</td>\n",
       "      <td>18965</td>\n",
       "      <td>590778</td>\n",
       "    </tr>\n",
       "    <tr>\n",
       "      <th>26443284</th>\n",
       "      <td>325727</td>\n",
       "      <td>15745753</td>\n",
       "      <td>0.0</td>\n",
       "      <td>18965</td>\n",
       "      <td>222097</td>\n",
       "    </tr>\n",
       "    <tr>\n",
       "      <th>26443285</th>\n",
       "      <td>325727</td>\n",
       "      <td>16143347</td>\n",
       "      <td>0.0</td>\n",
       "      <td>18965</td>\n",
       "      <td>264680</td>\n",
       "    </tr>\n",
       "    <tr>\n",
       "      <th>26443286</th>\n",
       "      <td>325727</td>\n",
       "      <td>18460392</td>\n",
       "      <td>0.0</td>\n",
       "      <td>18965</td>\n",
       "      <td>385835</td>\n",
       "    </tr>\n",
       "    <tr>\n",
       "      <th>26443287</th>\n",
       "      <td>325727</td>\n",
       "      <td>15749186</td>\n",
       "      <td>0.0</td>\n",
       "      <td>18965</td>\n",
       "      <td>222634</td>\n",
       "    </tr>\n",
       "    <tr>\n",
       "      <th>...</th>\n",
       "      <td>...</td>\n",
       "      <td>...</td>\n",
       "      <td>...</td>\n",
       "      <td>...</td>\n",
       "      <td>...</td>\n",
       "    </tr>\n",
       "    <tr>\n",
       "      <th>35505628</th>\n",
       "      <td>817532</td>\n",
       "      <td>3590</td>\n",
       "      <td>0.0</td>\n",
       "      <td>30947</td>\n",
       "      <td>981627</td>\n",
       "    </tr>\n",
       "    <tr>\n",
       "      <th>35505629</th>\n",
       "      <td>817532</td>\n",
       "      <td>15507958</td>\n",
       "      <td>0.0</td>\n",
       "      <td>30947</td>\n",
       "      <td>213456</td>\n",
       "    </tr>\n",
       "    <tr>\n",
       "      <th>35505630</th>\n",
       "      <td>817532</td>\n",
       "      <td>18170549</td>\n",
       "      <td>0.0</td>\n",
       "      <td>30947</td>\n",
       "      <td>364868</td>\n",
       "    </tr>\n",
       "    <tr>\n",
       "      <th>35505631</th>\n",
       "      <td>817532</td>\n",
       "      <td>11870085</td>\n",
       "      <td>0.0</td>\n",
       "      <td>30947</td>\n",
       "      <td>78642</td>\n",
       "    </tr>\n",
       "    <tr>\n",
       "      <th>35505632</th>\n",
       "      <td>817532</td>\n",
       "      <td>10818853</td>\n",
       "      <td>0.0</td>\n",
       "      <td>30947</td>\n",
       "      <td>34300</td>\n",
       "    </tr>\n",
       "  </tbody>\n",
       "</table>\n",
       "<p>1798 rows × 5 columns</p>\n",
       "</div>"
      ],
      "text/plain": [
       "         user_id   book_id  rating  user_index  book_index\n",
       "26443283  325727  23395098     0.0       18965      590778\n",
       "26443284  325727  15745753     0.0       18965      222097\n",
       "26443285  325727  16143347     0.0       18965      264680\n",
       "26443286  325727  18460392     0.0       18965      385835\n",
       "26443287  325727  15749186     0.0       18965      222634\n",
       "...          ...       ...     ...         ...         ...\n",
       "35505628  817532      3590     0.0       30947      981627\n",
       "35505629  817532  15507958     0.0       30947      213456\n",
       "35505630  817532  18170549     0.0       30947      364868\n",
       "35505631  817532  11870085     0.0       30947       78642\n",
       "35505632  817532  10818853     0.0       30947       34300\n",
       "\n",
       "[1798 rows x 5 columns]"
      ]
     },
     "execution_count": 51,
     "metadata": {},
     "output_type": "execute_result"
    }
   ],
   "source": [
    "similarity = cosine_similarity(ratings_mat[my_index,:], ratings_mat).flatten()\n",
    "indices = np.argpartition(similarity, -15)[-15:]\n",
    "similar_users = interactions[interactions[\"user_index\"].isin(indices)].copy()\n",
    "similar_users = similar_users[similar_users[\"user_id\"]!=\"-1\"]\n",
    "similar_users"
   ]
  },
  {
   "cell_type": "code",
   "execution_count": 52,
   "id": "2d6a6e45-1bdc-48ae-b358-fb2b76eb568e",
   "metadata": {
    "tags": []
   },
   "outputs": [],
   "source": [
    "book_recs = similar_users.groupby(\"book_id\").rating.agg(['count', 'mean'])\n",
    "book_recs = book_recs.merge(titles, how=\"inner\", on=\"book_id\")\n",
    "book_recs[\"adjusted_count\"] = book_recs[\"count\"] * (book_recs[\"count\"] / book_recs[\"ratings\"])\n",
    "book_recs[\"score\"] = book_recs[\"mean\"] * book_recs[\"adjusted_count\"]\n",
    "book_recs = book_recs[~book_recs[\"book_id\"].isin(my_books[\"book_id\"])]\n",
    "my_books[\"mod_title\"] = my_books[\"title\"].str.replace(\"[^a-zA-Z0-9 ]\", \"\", regex=True).str.lower()\n",
    "my_books[\"mod_title\"] = my_books[\"mod_title\"].str.replace(\"\\s+\", \" \", regex=True)\n",
    "book_recs = book_recs[~book_recs[\"mod_title\"].isin(my_books[\"mod_title\"])]\n",
    "book_recs = book_recs[book_recs[\"mean\"] >=4]\n",
    "book_recs = book_recs[book_recs[\"count\"]>2]\n",
    "top_recs = book_recs.sort_values(\"mean\", ascending=False)"
   ]
  },
  {
   "cell_type": "code",
   "execution_count": 53,
   "id": "677b6606-bfd6-4d25-b76f-9ac4a4c04ca0",
   "metadata": {
    "tags": []
   },
   "outputs": [
    {
     "data": {
      "text/html": [
       "<style type=\"text/css\">\n",
       "</style>\n",
       "<table id=\"T_136ab\">\n",
       "  <thead>\n",
       "    <tr>\n",
       "      <th class=\"blank level0\" >&nbsp;</th>\n",
       "      <th id=\"T_136ab_level0_col0\" class=\"col_heading level0 col0\" >book_id</th>\n",
       "      <th id=\"T_136ab_level0_col1\" class=\"col_heading level0 col1\" >count</th>\n",
       "      <th id=\"T_136ab_level0_col2\" class=\"col_heading level0 col2\" >mean</th>\n",
       "      <th id=\"T_136ab_level0_col3\" class=\"col_heading level0 col3\" >title</th>\n",
       "      <th id=\"T_136ab_level0_col4\" class=\"col_heading level0 col4\" >ratings</th>\n",
       "      <th id=\"T_136ab_level0_col5\" class=\"col_heading level0 col5\" >average_rating</th>\n",
       "      <th id=\"T_136ab_level0_col6\" class=\"col_heading level0 col6\" >url</th>\n",
       "      <th id=\"T_136ab_level0_col7\" class=\"col_heading level0 col7\" >cover_image</th>\n",
       "      <th id=\"T_136ab_level0_col8\" class=\"col_heading level0 col8\" >num_pages</th>\n",
       "      <th id=\"T_136ab_level0_col9\" class=\"col_heading level0 col9\" >publication_year</th>\n",
       "      <th id=\"T_136ab_level0_col10\" class=\"col_heading level0 col10\" >publisher</th>\n",
       "      <th id=\"T_136ab_level0_col11\" class=\"col_heading level0 col11\" >mod_title</th>\n",
       "      <th id=\"T_136ab_level0_col12\" class=\"col_heading level0 col12\" >text_review_count</th>\n",
       "      <th id=\"T_136ab_level0_col13\" class=\"col_heading level0 col13\" >adjusted_count</th>\n",
       "      <th id=\"T_136ab_level0_col14\" class=\"col_heading level0 col14\" >score</th>\n",
       "    </tr>\n",
       "  </thead>\n",
       "  <tbody>\n",
       "    <tr>\n",
       "      <th id=\"T_136ab_level0_row0\" class=\"row_heading level0 row0\" >772</th>\n",
       "      <td id=\"T_136ab_row0_col0\" class=\"data row0 col0\" >2767052</td>\n",
       "      <td id=\"T_136ab_row0_col1\" class=\"data row0 col1\" >7</td>\n",
       "      <td id=\"T_136ab_row0_col2\" class=\"data row0 col2\" >4.714286</td>\n",
       "      <td id=\"T_136ab_row0_col3\" class=\"data row0 col3\" >The Hunger Games (The Hunger Games, #1)</td>\n",
       "      <td id=\"T_136ab_row0_col4\" class=\"data row0 col4\" >4899965</td>\n",
       "      <td id=\"T_136ab_row0_col5\" class=\"data row0 col5\" >4.340000</td>\n",
       "      <td id=\"T_136ab_row0_col6\" class=\"data row0 col6\" ><a target=\"_blank\" href=\"https://www.goodreads.com/book/show/2767052-the-hunger-games\">Goodreads</a></td>\n",
       "      <td id=\"T_136ab_row0_col7\" class=\"data row0 col7\" ><img src =\"https://images.gr-assets.com/books/1447303603m/2767052.jpg\" width=50></img></td>\n",
       "      <td id=\"T_136ab_row0_col8\" class=\"data row0 col8\" >374</td>\n",
       "      <td id=\"T_136ab_row0_col9\" class=\"data row0 col9\" >2008</td>\n",
       "      <td id=\"T_136ab_row0_col10\" class=\"data row0 col10\" >Scholastic Press</td>\n",
       "      <td id=\"T_136ab_row0_col11\" class=\"data row0 col11\" >the hunger games (the hunger games, #1)</td>\n",
       "      <td id=\"T_136ab_row0_col12\" class=\"data row0 col12\" >11.000000</td>\n",
       "      <td id=\"T_136ab_row0_col13\" class=\"data row0 col13\" >0.000010</td>\n",
       "      <td id=\"T_136ab_row0_col14\" class=\"data row0 col14\" >0.000047</td>\n",
       "    </tr>\n",
       "    <tr>\n",
       "      <th id=\"T_136ab_level0_row1\" class=\"row_heading level0 row1\" >1118</th>\n",
       "      <td id=\"T_136ab_row1_col0\" class=\"data row1 col0\" >6148028</td>\n",
       "      <td id=\"T_136ab_row1_col1\" class=\"data row1 col1\" >6</td>\n",
       "      <td id=\"T_136ab_row1_col2\" class=\"data row1 col2\" >4.333333</td>\n",
       "      <td id=\"T_136ab_row1_col3\" class=\"data row1 col3\" >Catching Fire (The Hunger Games, #2)</td>\n",
       "      <td id=\"T_136ab_row1_col4\" class=\"data row1 col4\" >1854746</td>\n",
       "      <td id=\"T_136ab_row1_col5\" class=\"data row1 col5\" >4.300000</td>\n",
       "      <td id=\"T_136ab_row1_col6\" class=\"data row1 col6\" ><a target=\"_blank\" href=\"https://www.goodreads.com/book/show/6148028-catching-fire\">Goodreads</a></td>\n",
       "      <td id=\"T_136ab_row1_col7\" class=\"data row1 col7\" ><img src =\"https://images.gr-assets.com/books/1358273780m/6148028.jpg\" width=50></img></td>\n",
       "      <td id=\"T_136ab_row1_col8\" class=\"data row1 col8\" >391</td>\n",
       "      <td id=\"T_136ab_row1_col9\" class=\"data row1 col9\" >2009</td>\n",
       "      <td id=\"T_136ab_row1_col10\" class=\"data row1 col10\" >Scholastic Press</td>\n",
       "      <td id=\"T_136ab_row1_col11\" class=\"data row1 col11\" >catching fire (the hunger games, #2)</td>\n",
       "      <td id=\"T_136ab_row1_col12\" class=\"data row1 col12\" >7.000000</td>\n",
       "      <td id=\"T_136ab_row1_col13\" class=\"data row1 col13\" >0.000019</td>\n",
       "      <td id=\"T_136ab_row1_col14\" class=\"data row1 col14\" >0.000084</td>\n",
       "    </tr>\n",
       "  </tbody>\n",
       "</table>\n"
      ],
      "text/plain": [
       "<pandas.io.formats.style.Styler at 0x2d3176bd0>"
      ]
     },
     "execution_count": 53,
     "metadata": {},
     "output_type": "execute_result"
    }
   ],
   "source": [
    "top_recs.style.format({'url': make_clickable, 'cover_image': show_image})"
   ]
  },
  {
   "cell_type": "code",
   "execution_count": null,
   "id": "ed7f5ef2-1b24-4313-b0d6-64d2646b07c4",
   "metadata": {
    "tags": []
   },
   "outputs": [],
   "source": [
    "pickle.dump(top_recs, open('recommendation.pkl', 'wb'))"
   ]
  }
 ],
 "metadata": {
  "kernelspec": {
   "display_name": "Python 3 (ipykernel)",
   "language": "python",
   "name": "python3"
  },
  "language_info": {
   "codemirror_mode": {
    "name": "ipython",
    "version": 3
   },
   "file_extension": ".py",
   "mimetype": "text/x-python",
   "name": "python",
   "nbconvert_exporter": "python",
   "pygments_lexer": "ipython3",
   "version": "3.11.4"
  }
 },
 "nbformat": 4,
 "nbformat_minor": 5
}
